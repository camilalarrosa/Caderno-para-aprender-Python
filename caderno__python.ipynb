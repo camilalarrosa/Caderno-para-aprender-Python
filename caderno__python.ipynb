{
  "nbformat": 4,
  "nbformat_minor": 0,
  "metadata": {
    "colab": {
      "name": "caderno_ python",
      "provenance": [],
      "toc_visible": true,
      "authorship_tag": "ABX9TyOVGwMDsH2eplfUEPmnpgKq",
      "include_colab_link": true
    },
    "kernelspec": {
      "name": "python3",
      "display_name": "Python 3"
    },
    "language_info": {
      "name": "python"
    }
  },
  "cells": [
    {
      "cell_type": "markdown",
      "metadata": {
        "id": "view-in-github",
        "colab_type": "text"
      },
      "source": [
        "<a href=\"https://colab.research.google.com/github/camilalarrosa/Caderno-para-aprender-Python/blob/main/caderno__python.ipynb\" target=\"_parent\"><img src=\"https://colab.research.google.com/assets/colab-badge.svg\" alt=\"Open In Colab\"/></a>"
      ]
    },
    {
      "cell_type": "code",
      "execution_count": null,
      "metadata": {
        "colab": {
          "base_uri": "https://localhost:8080/"
        },
        "id": "6HglTPm2a4OU",
        "outputId": "a00babf9-96eb-4638-d620-6020961e2434"
      },
      "outputs": [
        {
          "output_type": "stream",
          "name": "stdout",
          "text": [
            "Meu caderno de estudos da Udemy\n"
          ]
        }
      ],
      "source": [
        "print('Meu caderno de estudos da Udemy')"
      ]
    },
    {
      "cell_type": "code",
      "source": [
        "'''\n",
        "Sempre existe algo novo para aprender\n",
        "'''"
      ],
      "metadata": {
        "colab": {
          "base_uri": "https://localhost:8080/",
          "height": 35
        },
        "id": "-GJOdKTicrat",
        "outputId": "3f0a2c6c-fb48-4990-dc88-4c9148c73246"
      },
      "execution_count": null,
      "outputs": [
        {
          "output_type": "execute_result",
          "data": {
            "text/plain": [
              "'\\nSempre existe algo novo para aprender\\n'"
            ],
            "application/vnd.google.colaboratory.intrinsic+json": {
              "type": "string"
            }
          },
          "metadata": {},
          "execution_count": 2
        }
      ]
    },
    {
      "cell_type": "code",
      "source": [
        "print('mesmo \\nno mais basico')"
      ],
      "metadata": {
        "colab": {
          "base_uri": "https://localhost:8080/"
        },
        "id": "lDT8gOd7dn7k",
        "outputId": "8865b669-57bf-4821-cb47-8661d0ade383"
      },
      "execution_count": null,
      "outputs": [
        {
          "output_type": "stream",
          "name": "stdout",
          "text": [
            "mesmo \n",
            "no mais basico\n"
          ]
        }
      ]
    },
    {
      "cell_type": "markdown",
      "source": [
        "# Operadores matemáticos"
      ],
      "metadata": {
        "id": "apZ3gZcWeEZz"
      }
    },
    {
      "cell_type": "code",
      "source": [
        "#Soma\n",
        "2 +2"
      ],
      "metadata": {
        "colab": {
          "base_uri": "https://localhost:8080/"
        },
        "id": "E5n2z1vLeN0j",
        "outputId": "83ea1a69-054e-424a-e904-305160eb2990"
      },
      "execution_count": null,
      "outputs": [
        {
          "output_type": "execute_result",
          "data": {
            "text/plain": [
              "4"
            ]
          },
          "metadata": {},
          "execution_count": 4
        }
      ]
    },
    {
      "cell_type": "code",
      "source": [
        "#Subtracao\n",
        "2 - 2"
      ],
      "metadata": {
        "colab": {
          "base_uri": "https://localhost:8080/"
        },
        "id": "d-q9KlGYeOGB",
        "outputId": "9b861054-f606-4c92-cdf3-de4b718204c5"
      },
      "execution_count": null,
      "outputs": [
        {
          "output_type": "execute_result",
          "data": {
            "text/plain": [
              "0"
            ]
          },
          "metadata": {},
          "execution_count": 5
        }
      ]
    },
    {
      "cell_type": "code",
      "source": [
        "#Multiplicacao\n",
        "4 * 4"
      ],
      "metadata": {
        "colab": {
          "base_uri": "https://localhost:8080/"
        },
        "id": "bBxW8PV3eOIy",
        "outputId": "6ea9c666-d15a-423d-d910-e3ef579165bd"
      },
      "execution_count": null,
      "outputs": [
        {
          "output_type": "execute_result",
          "data": {
            "text/plain": [
              "16"
            ]
          },
          "metadata": {},
          "execution_count": 6
        }
      ]
    },
    {
      "cell_type": "code",
      "source": [
        "#Divisao\n",
        "4 / 2"
      ],
      "metadata": {
        "colab": {
          "base_uri": "https://localhost:8080/"
        },
        "id": "9X40oNHFee9o",
        "outputId": "03cd368d-8730-49ab-9dc5-8cad69ebfdca"
      },
      "execution_count": null,
      "outputs": [
        {
          "output_type": "execute_result",
          "data": {
            "text/plain": [
              "2.0"
            ]
          },
          "metadata": {},
          "execution_count": 7
        }
      ]
    },
    {
      "cell_type": "code",
      "source": [
        "#exponenciacao\n",
        "2 ** 3"
      ],
      "metadata": {
        "colab": {
          "base_uri": "https://localhost:8080/"
        },
        "id": "r9nvU7queitZ",
        "outputId": "74eb42f3-7310-4581-9a36-b1177ffaf892"
      },
      "execution_count": null,
      "outputs": [
        {
          "output_type": "execute_result",
          "data": {
            "text/plain": [
              "8"
            ]
          },
          "metadata": {},
          "execution_count": 8
        }
      ]
    },
    {
      "cell_type": "code",
      "source": [
        "#Resto da divisão\n",
        "10 % 3"
      ],
      "metadata": {
        "colab": {
          "base_uri": "https://localhost:8080/"
        },
        "id": "f1Hm5K1LemzL",
        "outputId": "2cd26f93-facb-494c-9e74-0c4a14702f52"
      },
      "execution_count": null,
      "outputs": [
        {
          "output_type": "execute_result",
          "data": {
            "text/plain": [
              "1"
            ]
          },
          "metadata": {},
          "execution_count": 9
        }
      ]
    },
    {
      "cell_type": "code",
      "source": [
        "#Divisao de chao\n",
        "10 // 3"
      ],
      "metadata": {
        "colab": {
          "base_uri": "https://localhost:8080/"
        },
        "id": "PvB7Zl4PfDDL",
        "outputId": "959c13f7-57d6-4d6b-d22c-506653cd811d"
      },
      "execution_count": null,
      "outputs": [
        {
          "output_type": "execute_result",
          "data": {
            "text/plain": [
              "3"
            ]
          },
          "metadata": {},
          "execution_count": 10
        }
      ]
    },
    {
      "cell_type": "markdown",
      "source": [
        "# Variáveis \n",
        " são contêineres para armazenar valores de dados; \n",
        " \n",
        " uma variável é criada no momento que você atribui um valor a ela."
      ],
      "metadata": {
        "id": "4qLLpyE4fomm"
      }
    },
    {
      "cell_type": "code",
      "source": [
        "nome = 'camila'\n",
        "print(nome)"
      ],
      "metadata": {
        "colab": {
          "base_uri": "https://localhost:8080/"
        },
        "id": "kyaLSDEJgVZW",
        "outputId": "600ee009-1930-49a6-ddbb-9761ee0f2bcb"
      },
      "execution_count": null,
      "outputs": [
        {
          "output_type": "stream",
          "name": "stdout",
          "text": [
            "camila\n"
          ]
        }
      ]
    },
    {
      "cell_type": "code",
      "source": [
        "# obs: se eu sobreescrever uma variavel, ela fica com o valor da ultima inscricao\n",
        "nome = 'camila larrosa' \n",
        "print(nome)"
      ],
      "metadata": {
        "colab": {
          "base_uri": "https://localhost:8080/"
        },
        "id": "tmNUEjg0gVv4",
        "outputId": "d2b93d53-42e2-48ed-d573-2fa627b20291"
      },
      "execution_count": null,
      "outputs": [
        {
          "output_type": "stream",
          "name": "stdout",
          "text": [
            "camila larrosa\n"
          ]
        }
      ]
    },
    {
      "cell_type": "code",
      "source": [
        "# variavel texto\n",
        "var_texto_01 = 'teste'\n",
        "var_texto_02 = str('teste02')\n",
        "print(var_texto_01, var_texto_02)"
      ],
      "metadata": {
        "colab": {
          "base_uri": "https://localhost:8080/"
        },
        "id": "LrUIoW4rgWDC",
        "outputId": "dff75165-05c3-42c3-ff85-fbe8a01b9359"
      },
      "execution_count": null,
      "outputs": [
        {
          "output_type": "stream",
          "name": "stdout",
          "text": [
            "teste teste02\n"
          ]
        }
      ]
    },
    {
      "cell_type": "code",
      "source": [
        "# variaveis numericas\n",
        "var_inteiro_01 = 100\n",
        "var_inteiro_02 = int(300)\n",
        "# variaveis flutuantes\n",
        "var_flutuante_01 = 11.1\n",
        "var_flutuante_02 = float(3.5)\n",
        "print(var_inteiro_01, var_inteiro_02, var_flutuante_01, var_flutuante_02)"
      ],
      "metadata": {
        "colab": {
          "base_uri": "https://localhost:8080/"
        },
        "id": "Y_ZKgUSOhU5I",
        "outputId": "dee295dd-08da-4c7d-bf3e-c351db5cc340"
      },
      "execution_count": null,
      "outputs": [
        {
          "output_type": "stream",
          "name": "stdout",
          "text": [
            "100 300 11.1 3.5\n"
          ]
        }
      ]
    },
    {
      "cell_type": "code",
      "source": [
        "# variaveis booleanas\n",
        "var_booleano_01 = True\n",
        "var_booleano_02 = False\n",
        "print(var_booleano_01, var_booleano_02)"
      ],
      "metadata": {
        "colab": {
          "base_uri": "https://localhost:8080/"
        },
        "id": "JchcYHtHiDaJ",
        "outputId": "346f015f-3dc9-4fc3-e002-7b310aea8ecf"
      },
      "execution_count": null,
      "outputs": [
        {
          "output_type": "stream",
          "name": "stdout",
          "text": [
            "True False\n"
          ]
        }
      ]
    },
    {
      "cell_type": "markdown",
      "source": [
        "# Estruturas de dados:\n",
        "\n",
        "\n",
        "1.   Listas: criadas usando [ ]\n",
        "2.   Tuples: criadas usando ( )\n",
        "3.   Dicionarios: usando { }\n",
        "\n",
        "*   Esses tipos de dados podem receber qualquer tipo de informacao, inclusive operacoes aritmeticas;\n",
        "\n",
        "*   Sequência de valores.\n",
        "\n",
        "\n",
        "\n",
        "\n",
        "\n",
        "\n",
        "\n",
        "\n",
        "\n"
      ],
      "metadata": {
        "id": "kDDfle2Oih_p"
      }
    },
    {
      "cell_type": "code",
      "source": [
        "# Listas\n",
        "list_01 = [1,2,3,4]\n",
        "list_02 = ['oi', 'exemplo', 1, 100, True]\n",
        "list_03 = ['lista', 'dentro', 'lista', [1,2,3]]\n",
        "\n",
        "print(list_01, list_02, list_03)\n"
      ],
      "metadata": {
        "colab": {
          "base_uri": "https://localhost:8080/"
        },
        "id": "3mXJHlLll87a",
        "outputId": "4b584d33-89d4-48d9-d742-2f62a4f46932"
      },
      "execution_count": null,
      "outputs": [
        {
          "output_type": "stream",
          "name": "stdout",
          "text": [
            "[1, 2, 3, 4] ['oi', 'exemplo', 1, 100, True] ['lista', 'dentro', 'lista', [1, 2, 3]]\n"
          ]
        }
      ]
    },
    {
      "cell_type": "code",
      "source": [
        "# Tuples (SAO IMUTAVEIS)\n",
        "tuple_01 = (1,2,3,4)\n",
        "tuple_02 = ('oi', False, 3.5, [1,2,3])\n",
        "print(tuple_01, tuple_02)"
      ],
      "metadata": {
        "colab": {
          "base_uri": "https://localhost:8080/"
        },
        "id": "ZlbnqQnymVzR",
        "outputId": "c56800af-8d8f-47f6-aac1-5ff7a26735cc"
      },
      "execution_count": null,
      "outputs": [
        {
          "output_type": "stream",
          "name": "stdout",
          "text": [
            "(1, 2, 3, 4) ('oi', False, 3.5, [1, 2, 3])\n"
          ]
        }
      ]
    },
    {
      "cell_type": "code",
      "source": [
        "# Dicionarios (organizados por chave e valor)\n",
        "dicionario = {\n",
        "    'index' : 'valor',\n",
        "    'id' : 1,\n",
        "    'id' : 2,\n",
        "    'nome' : 'camila',\n",
        "    'color' : 'red',\n",
        "    'lista' : list_01,\n",
        "    'tuple' : tuple_02\n",
        "    }\n",
        "dicionario\n"
      ],
      "metadata": {
        "colab": {
          "base_uri": "https://localhost:8080/"
        },
        "id": "blpCPK6Zm7Pm",
        "outputId": "c3938007-4555-4531-f3f3-7021948b06e5"
      },
      "execution_count": null,
      "outputs": [
        {
          "output_type": "execute_result",
          "data": {
            "text/plain": [
              "{'color': 'red',\n",
              " 'id': 2,\n",
              " 'index': 'valor',\n",
              " 'lista': [1, 2, 3, 4],\n",
              " 'nome': 'camila',\n",
              " 'tuple': ('oi', False, 3.5, [1, 2, 3])}"
            ]
          },
          "metadata": {},
          "execution_count": 26
        }
      ]
    },
    {
      "cell_type": "markdown",
      "source": [
        "# Nomeacao de variaveis\n",
        "Podemos nomear variaveis e tipos de dados de diversas formas:\n",
        "\n",
        "\n",
        "1.   Declarar as variaveis em uma unica linha de comando;\n",
        "2.   Atribuir um valor a diversas variaveis;\n",
        "3.   Declarar usando uma lista;\n",
        "4.   Combinar variaveis;\n",
        "5.   Operar com operadores matematicos;\n",
        "6.   Outras.\n",
        "\n"
      ],
      "metadata": {
        "id": "UZCH0GgIpA1e"
      }
    },
    {
      "cell_type": "code",
      "source": [
        "# varias com valores diferentes\n",
        "banana, laranja, morango = 1, 2, 3\n",
        "print(banana, laranja, morango)"
      ],
      "metadata": {
        "colab": {
          "base_uri": "https://localhost:8080/"
        },
        "id": "vwr0RtNHpuWT",
        "outputId": "c45017cf-8abe-4908-b1ee-2739eedcddab"
      },
      "execution_count": null,
      "outputs": [
        {
          "output_type": "stream",
          "name": "stdout",
          "text": [
            "1 2 3\n"
          ]
        }
      ]
    },
    {
      "cell_type": "code",
      "source": [
        "# varias com o mesmo valor\n",
        "rosa = azul = amarelo = 'cores'\n",
        "print( rosa , azul , amarelo)"
      ],
      "metadata": {
        "colab": {
          "base_uri": "https://localhost:8080/"
        },
        "id": "0ebnmPuppuiO",
        "outputId": "5e751099-9c14-4385-ad83-819eff4ecc71"
      },
      "execution_count": null,
      "outputs": [
        {
          "output_type": "stream",
          "name": "stdout",
          "text": [
            "cores cores cores\n"
          ]
        }
      ]
    },
    {
      "cell_type": "code",
      "source": [
        "# nomear com lista\n",
        "lista_carros = ['renault', 'audi', 'tesla']\n",
        "marca_01, marca_02, marca_03 = lista_carros\n",
        "print(marca_01, marca_02, marca_03 )"
      ],
      "metadata": {
        "colab": {
          "base_uri": "https://localhost:8080/"
        },
        "id": "Wde3X3prqb5q",
        "outputId": "9c516cc2-7645-4db7-fc23-f824beaed335"
      },
      "execution_count": null,
      "outputs": [
        {
          "output_type": "stream",
          "name": "stdout",
          "text": [
            "renault audi tesla\n"
          ]
        }
      ]
    },
    {
      "cell_type": "code",
      "source": [
        "# combinar variaveis\n",
        "nome = 'camila'\n",
        "sobrenome = 'larrosa'\n",
        "\n",
        "nome_completo = nome + ' ' + sobrenome\n",
        "\n",
        "print( nome_completo)"
      ],
      "metadata": {
        "colab": {
          "base_uri": "https://localhost:8080/"
        },
        "id": "J1BU5SgZqoWA",
        "outputId": "b2bcec71-5a3e-4941-8b3b-970998cfb8cb"
      },
      "execution_count": null,
      "outputs": [
        {
          "output_type": "stream",
          "name": "stdout",
          "text": [
            "camila larrosa\n"
          ]
        }
      ]
    },
    {
      "cell_type": "code",
      "source": [
        "# obs: variaveis devem ter a mesma prop para combinarem\n",
        "nome = 'camila'\n",
        "idade = '29'\n",
        "\n",
        "print(nome + ', ' + idade + ' ' + 'anos')\n",
        "\n",
        "# outro exemplo\n",
        "investimento = 1000\n",
        "taxa_juros = float(0.3)\n",
        "valor_ganho = (investimento * taxa_juros) + investimento\n",
        "\n",
        "print(valor_ganho)"
      ],
      "metadata": {
        "colab": {
          "base_uri": "https://localhost:8080/"
        },
        "id": "VyoW_mRlqogq",
        "outputId": "c3a9bba9-87ab-4316-874a-e8f0184bb6c7"
      },
      "execution_count": null,
      "outputs": [
        {
          "output_type": "stream",
          "name": "stdout",
          "text": [
            "camila, 29 anos\n",
            "1300.0\n"
          ]
        }
      ]
    },
    {
      "cell_type": "markdown",
      "source": [
        "# Tipo de informacao\n",
        "variaveis podem armazenar dados de diferentes tipos e, diferentes tipos podem fazer coisas diferentes. O Python tem os seguintes tipos de dados integrados por padrao, nestas categorias:\n",
        "\n",
        "\n",
        "1.   Text Type: str\n",
        "2.   Numeric Types: int, float, complex\n",
        "3.   Sequence Types: list, tuple, range\n",
        "4.   Mapping Type: dict\n",
        "5.   Set Types: set, frozenset\n",
        "6.   Boolean Type: bool\n",
        "7.   Binary Types: bytes, bytearray, memoryview\n",
        "\n",
        "\n"
      ],
      "metadata": {
        "id": "i8-4MTcT6xk_"
      }
    },
    {
      "cell_type": "code",
      "source": [
        "string = str('testando')\n",
        "inteiro = int(10)\n",
        "flutuante = float(1.5)\n",
        "complexo = complex( 1j )\n",
        "lista = list(('azul', 'amarelo'))\n",
        "tupla = tuple(('a', 'b'))\n",
        "range_ = range(4)\n",
        "dicionario = dict(nome='camila', idade=29)\n",
        "set_ = set(('a', 'b', 'c'))\n",
        "frozenset_ = frozenset(('a', 'b', 'c'))\n",
        "booleano = bool(3)\n",
        "bytes_ = bytes(3)\n",
        "bytearray_ = bytearray(3)\n",
        "memoryview_ = memoryview(bytes(3))\n",
        "\n",
        "from datetime import datetime\n",
        "data = datetime.today().date()"
      ],
      "metadata": {
        "id": "EYymcU0C7zSQ"
      },
      "execution_count": null,
      "outputs": []
    },
    {
      "cell_type": "code",
      "source": [
        "type (data)"
      ],
      "metadata": {
        "colab": {
          "base_uri": "https://localhost:8080/"
        },
        "id": "mSa_eYhl7zeA",
        "outputId": "355cd662-6a1e-4cf4-e58c-d87b91e084ed"
      },
      "execution_count": null,
      "outputs": [
        {
          "output_type": "execute_result",
          "data": {
            "text/plain": [
              "datetime.date"
            ]
          },
          "metadata": {},
          "execution_count": 48
        }
      ]
    },
    {
      "cell_type": "code",
      "source": [
        "type(complexo)"
      ],
      "metadata": {
        "colab": {
          "base_uri": "https://localhost:8080/"
        },
        "id": "EIPafE8R7zgy",
        "outputId": "57ce19e7-6e78-42f9-efd1-020cc47fa821"
      },
      "execution_count": null,
      "outputs": [
        {
          "output_type": "execute_result",
          "data": {
            "text/plain": [
              "complex"
            ]
          },
          "metadata": {},
          "execution_count": 49
        }
      ]
    },
    {
      "cell_type": "markdown",
      "source": [
        "# Comando ROUND\n",
        "Quando trabalhamos com nros flutuantes, podemos diminuir seu valor usando um comando nativo do Python\n",
        "\n",
        "round(valor, nro de casas)"
      ],
      "metadata": {
        "id": "8_wqO5no-2y2"
      }
    },
    {
      "cell_type": "code",
      "source": [
        "pi = 3.14159265359\n",
        "print(pi)"
      ],
      "metadata": {
        "colab": {
          "base_uri": "https://localhost:8080/"
        },
        "id": "9-_9RiYD-l4v",
        "outputId": "0a2f98e8-130a-426c-b83d-3b50229939a4"
      },
      "execution_count": null,
      "outputs": [
        {
          "output_type": "stream",
          "name": "stdout",
          "text": [
            "3.14159265359\n"
          ]
        }
      ]
    },
    {
      "cell_type": "code",
      "source": [
        "round(pi,2)"
      ],
      "metadata": {
        "colab": {
          "base_uri": "https://localhost:8080/"
        },
        "id": "x_mX6pW1_Hmt",
        "outputId": "5c17da4e-4ca5-43ff-c9d5-b5da8445dd0b"
      },
      "execution_count": null,
      "outputs": [
        {
          "output_type": "execute_result",
          "data": {
            "text/plain": [
              "3.14"
            ]
          },
          "metadata": {},
          "execution_count": 51
        }
      ]
    },
    {
      "cell_type": "markdown",
      "source": [
        "# Comando LEN\n",
        "A funcao len() retorna a quantidade total de elementos de qualquer lista em Python (mais uma funcao built-in)"
      ],
      "metadata": {
        "id": "_9imzdYR0Sxq"
      }
    },
    {
      "cell_type": "code",
      "source": [
        "lista = [1,2,3,4,5,6,7,8,9,10]\n",
        "dici = {'name':'camila', 'age':29 }\n",
        "tuple_ = (1,2,3)\n",
        "string_ = 'essa eu quero ver'"
      ],
      "metadata": {
        "id": "DSBT4a-8_eO8"
      },
      "execution_count": null,
      "outputs": []
    },
    {
      "cell_type": "markdown",
      "source": [
        ""
      ],
      "metadata": {
        "id": "zQkH8WLs0sFy"
      }
    },
    {
      "cell_type": "code",
      "source": [
        "len(lista)"
      ],
      "metadata": {
        "colab": {
          "base_uri": "https://localhost:8080/"
        },
        "id": "WLbfiWwl2E_G",
        "outputId": "a0322cb2-95b8-43a1-9ea1-1c8b689eb111"
      },
      "execution_count": null,
      "outputs": [
        {
          "output_type": "execute_result",
          "data": {
            "text/plain": [
              "10"
            ]
          },
          "metadata": {},
          "execution_count": 5
        }
      ]
    },
    {
      "cell_type": "code",
      "source": [
        "len(dici)"
      ],
      "metadata": {
        "colab": {
          "base_uri": "https://localhost:8080/"
        },
        "id": "iTd88UZ52FK-",
        "outputId": "86138f8b-e722-4b09-d9a8-035e064dde92"
      },
      "execution_count": null,
      "outputs": [
        {
          "output_type": "execute_result",
          "data": {
            "text/plain": [
              "2"
            ]
          },
          "metadata": {},
          "execution_count": 6
        }
      ]
    },
    {
      "cell_type": "code",
      "source": [
        "len(tuple_)"
      ],
      "metadata": {
        "colab": {
          "base_uri": "https://localhost:8080/"
        },
        "id": "lJtoMJbM2FXg",
        "outputId": "d6736faf-cb77-4f5e-f785-20a644f48709"
      },
      "execution_count": null,
      "outputs": [
        {
          "output_type": "execute_result",
          "data": {
            "text/plain": [
              "3"
            ]
          },
          "metadata": {},
          "execution_count": 7
        }
      ]
    },
    {
      "cell_type": "code",
      "source": [
        "len(string_)"
      ],
      "metadata": {
        "colab": {
          "base_uri": "https://localhost:8080/"
        },
        "id": "mjlkNnTQ2LNS",
        "outputId": "a8cb4207-7718-48dd-983d-82cb61a42a1a"
      },
      "execution_count": null,
      "outputs": [
        {
          "output_type": "execute_result",
          "data": {
            "text/plain": [
              "17"
            ]
          },
          "metadata": {},
          "execution_count": 8
        }
      ]
    },
    {
      "cell_type": "markdown",
      "source": [
        "# Fatiamento de string\n",
        "\n",
        "\n",
        "*   Strings sao listas em bytes representando caracteres;\n",
        "*   Podemos acessar suas posicoes usando [ ]\n",
        "*   string [posicao inicial: posicao final]\n",
        "\n"
      ],
      "metadata": {
        "id": "Qyituafj2YA_"
      }
    },
    {
      "cell_type": "code",
      "source": [
        "string_ex = 'aprendendo python online'\n",
        "\n",
        "print( type(string_ex))\n",
        "print( len(string_ex))"
      ],
      "metadata": {
        "colab": {
          "base_uri": "https://localhost:8080/"
        },
        "id": "xs8ZcKSW2NQ-",
        "outputId": "69de80fe-e134-43c6-bb28-514155bc32a5"
      },
      "execution_count": null,
      "outputs": [
        {
          "output_type": "stream",
          "name": "stdout",
          "text": [
            "<class 'str'>\n",
            "24\n"
          ]
        }
      ]
    },
    {
      "cell_type": "code",
      "source": [
        "print(string_ex[1])\n",
        "print(string_ex[2])\n",
        "print(string_ex[-1])\n",
        "print(string_ex[0:10])\n",
        "print(string_ex[-6:])\n",
        "print(string_ex[0:24])"
      ],
      "metadata": {
        "colab": {
          "base_uri": "https://localhost:8080/"
        },
        "id": "06Va53jM3K8d",
        "outputId": "00e46056-ff3b-4e78-be41-8e5d99935fdd"
      },
      "execution_count": null,
      "outputs": [
        {
          "output_type": "stream",
          "name": "stdout",
          "text": [
            "p\n",
            "r\n",
            "e\n",
            "aprendendo\n",
            "online\n",
            "aprendendo python online\n"
          ]
        }
      ]
    },
    {
      "cell_type": "code",
      "source": [
        "#exemplo pratico - meu dado veio \"poluido\"\n",
        "cpf = 'cpf: 012345678'\n",
        "cpf[-9:]"
      ],
      "metadata": {
        "colab": {
          "base_uri": "https://localhost:8080/",
          "height": 35
        },
        "id": "S5r3HD_33joB",
        "outputId": "6d7e4351-6073-4912-8004-020b2fa91210"
      },
      "execution_count": null,
      "outputs": [
        {
          "output_type": "execute_result",
          "data": {
            "text/plain": [
              "'012345678'"
            ],
            "application/vnd.google.colaboratory.intrinsic+json": {
              "type": "string"
            }
          },
          "metadata": {},
          "execution_count": 14
        }
      ]
    },
    {
      "cell_type": "markdown",
      "source": [
        "# Manipulacao de strings\n",
        "\n",
        "\n",
        "1.   replace()\n",
        "2.   startswith()\n",
        "3.   endswith()\n",
        "4.   count()\n",
        "5.   capitalize()\n",
        "6.   isdigit()\n",
        "7.   isalnum()\n",
        "8.   upper()\n",
        "9.   lower()\n",
        "10.  find()\n",
        "11.  strip()\n",
        "12.  split()\n",
        "\n"
      ],
      "metadata": {
        "id": "4_5pbnf_HRO0"
      }
    },
    {
      "cell_type": "code",
      "source": [
        "string = 'olá mundão!'\n",
        "print(string)\n",
        "print(len(string))\n",
        "print(type(string))"
      ],
      "metadata": {
        "colab": {
          "base_uri": "https://localhost:8080/"
        },
        "id": "_HQJuEuw4M-w",
        "outputId": "bc199355-457c-488b-ef4d-3962f523994c"
      },
      "execution_count": null,
      "outputs": [
        {
          "output_type": "stream",
          "name": "stdout",
          "text": [
            "olá mundão!\n",
            "11\n",
            "<class 'str'>\n"
          ]
        }
      ]
    },
    {
      "cell_type": "code",
      "source": [
        "# replace --> substituir (valor antigo, valor novo)\n",
        "string.replace('mundão', 'mundo')\n"
      ],
      "metadata": {
        "colab": {
          "base_uri": "https://localhost:8080/",
          "height": 35
        },
        "id": "q94IlJh_IUUM",
        "outputId": "60e1a24b-37b4-4255-c979-4d95ae86f907"
      },
      "execution_count": null,
      "outputs": [
        {
          "output_type": "execute_result",
          "data": {
            "text/plain": [
              "'olá mundo!'"
            ],
            "application/vnd.google.colaboratory.intrinsic+json": {
              "type": "string"
            }
          },
          "metadata": {},
          "execution_count": 19
        }
      ]
    },
    {
      "cell_type": "code",
      "source": [
        "cpf = 'cpf: 012345678'\n",
        "\n",
        "int(cpf.replace('cpf: ',''))"
      ],
      "metadata": {
        "colab": {
          "base_uri": "https://localhost:8080/"
        },
        "id": "d5HQy_eBIvl4",
        "outputId": "41b67b9f-5e18-45bd-9421-4b75da183dc6"
      },
      "execution_count": null,
      "outputs": [
        {
          "output_type": "execute_result",
          "data": {
            "text/plain": [
              "12345678"
            ]
          },
          "metadata": {},
          "execution_count": 20
        }
      ]
    },
    {
      "cell_type": "code",
      "source": [
        "# startswith --> verificar o comeco da string\n",
        "string.startswith('bom dia')"
      ],
      "metadata": {
        "colab": {
          "base_uri": "https://localhost:8080/"
        },
        "id": "OG1fah4kJEa7",
        "outputId": "31e40316-1459-47e9-97c6-293a14bcc2fd"
      },
      "execution_count": null,
      "outputs": [
        {
          "output_type": "execute_result",
          "data": {
            "text/plain": [
              "False"
            ]
          },
          "metadata": {},
          "execution_count": 21
        }
      ]
    },
    {
      "cell_type": "code",
      "source": [
        "# endswith --> verificar o fim da string\n",
        "string.endswith('!')"
      ],
      "metadata": {
        "colab": {
          "base_uri": "https://localhost:8080/"
        },
        "id": "pZkC94X2JcXc",
        "outputId": "e1f0b969-2a3e-4b8b-e1de-75e92088762d"
      },
      "execution_count": null,
      "outputs": [
        {
          "output_type": "execute_result",
          "data": {
            "text/plain": [
              "True"
            ]
          },
          "metadata": {},
          "execution_count": 23
        }
      ]
    },
    {
      "cell_type": "code",
      "source": [
        "# count --> contar palavras/letras\n",
        "string.count('o')"
      ],
      "metadata": {
        "colab": {
          "base_uri": "https://localhost:8080/"
        },
        "id": "mT8cj8sFJv6Y",
        "outputId": "7b54c204-bb56-4cb3-a9e9-1862788e019d"
      },
      "execution_count": null,
      "outputs": [
        {
          "output_type": "execute_result",
          "data": {
            "text/plain": [
              "2"
            ]
          },
          "metadata": {},
          "execution_count": 25
        }
      ]
    },
    {
      "cell_type": "code",
      "source": [
        "# capitalize --> transforma a primeira letra em maiuscula\n",
        "Nome = 'douglas'"
      ],
      "metadata": {
        "id": "iIKBoqNyKIPj"
      },
      "execution_count": null,
      "outputs": []
    },
    {
      "cell_type": "code",
      "source": [
        "Nome.capitalize()"
      ],
      "metadata": {
        "colab": {
          "base_uri": "https://localhost:8080/",
          "height": 35
        },
        "id": "k7pAcvPmKiNu",
        "outputId": "35bbaa1a-ca8e-4004-d1c8-c09d6734ab16"
      },
      "execution_count": null,
      "outputs": [
        {
          "output_type": "execute_result",
          "data": {
            "text/plain": [
              "'Douglas'"
            ],
            "application/vnd.google.colaboratory.intrinsic+json": {
              "type": "string"
            }
          },
          "metadata": {},
          "execution_count": 27
        }
      ]
    },
    {
      "cell_type": "code",
      "source": [
        "# isdigit --> verifica se existe E SE SÓ existe valor numerico dentro da string\n",
        "cpf.isdigit()"
      ],
      "metadata": {
        "colab": {
          "base_uri": "https://localhost:8080/"
        },
        "id": "rEb43TBbKlWC",
        "outputId": "6a1de359-7e92-4454-8a39-8b1c396f3f3e"
      },
      "execution_count": null,
      "outputs": [
        {
          "output_type": "execute_result",
          "data": {
            "text/plain": [
              "False"
            ]
          },
          "metadata": {},
          "execution_count": 28
        }
      ]
    },
    {
      "cell_type": "code",
      "source": [
        "# isalnum --> verifica se a string é alfanumerica\n",
        "nota = 'nota10'\n",
        "nota.isalnum()"
      ],
      "metadata": {
        "colab": {
          "base_uri": "https://localhost:8080/"
        },
        "id": "2QKlGeC6MrCS",
        "outputId": "47605181-c48a-4101-a0b0-ff3a8721a6e1"
      },
      "execution_count": null,
      "outputs": [
        {
          "output_type": "execute_result",
          "data": {
            "text/plain": [
              "True"
            ]
          },
          "metadata": {},
          "execution_count": 30
        }
      ]
    },
    {
      "cell_type": "code",
      "source": [
        "# upper --> transforma tudo em maiusculo\n",
        "nome_ = 'Kaloo'\n",
        "nome_.upper()"
      ],
      "metadata": {
        "colab": {
          "base_uri": "https://localhost:8080/",
          "height": 35
        },
        "id": "hwJ0JL1ENQ0x",
        "outputId": "de440f14-c08b-4a00-9fc4-346a8887d5ce"
      },
      "execution_count": null,
      "outputs": [
        {
          "output_type": "execute_result",
          "data": {
            "text/plain": [
              "'KALOO'"
            ],
            "application/vnd.google.colaboratory.intrinsic+json": {
              "type": "string"
            }
          },
          "metadata": {},
          "execution_count": 31
        }
      ]
    },
    {
      "cell_type": "code",
      "source": [
        "# lower --> transforma tudo em minisculo\n",
        "nome_.lower()\n",
        "\n"
      ],
      "metadata": {
        "colab": {
          "base_uri": "https://localhost:8080/",
          "height": 35
        },
        "id": "j37dI0wbNqfW",
        "outputId": "258aea16-5b7f-4e0e-f400-99b0ed58c6a6"
      },
      "execution_count": null,
      "outputs": [
        {
          "output_type": "execute_result",
          "data": {
            "text/plain": [
              "'kaloo'"
            ],
            "application/vnd.google.colaboratory.intrinsic+json": {
              "type": "string"
            }
          },
          "metadata": {},
          "execution_count": 32
        }
      ]
    },
    {
      "cell_type": "code",
      "source": [
        "# find --> localizar algo especifico na string (mostra a posicao que comeca)\n",
        "frase = 'hoje minhas aulas de ingles retornam'\n",
        "frase.find('ingles')"
      ],
      "metadata": {
        "colab": {
          "base_uri": "https://localhost:8080/"
        },
        "id": "yNlkQq_lN3wL",
        "outputId": "5dc82390-bb22-4a51-84ba-08abb6b25fea"
      },
      "execution_count": null,
      "outputs": [
        {
          "output_type": "execute_result",
          "data": {
            "text/plain": [
              "21"
            ]
          },
          "metadata": {},
          "execution_count": 33
        }
      ]
    },
    {
      "cell_type": "code",
      "source": [
        "# se nao existir, aparece -1\n",
        "frase.find('sol')"
      ],
      "metadata": {
        "colab": {
          "base_uri": "https://localhost:8080/"
        },
        "id": "Z-bEnotyOXr7",
        "outputId": "571a0d2d-dae4-4105-81ec-16a98d13b500"
      },
      "execution_count": null,
      "outputs": [
        {
          "output_type": "execute_result",
          "data": {
            "text/plain": [
              "-1"
            ]
          },
          "metadata": {},
          "execution_count": 35
        }
      ]
    },
    {
      "cell_type": "code",
      "source": [
        "# strip --V remove os espacos no inicio e/ou final da string\n",
        "endereco = ' R dos bobos '\n",
        "print(endereco)\n",
        "print(endereco.strip())"
      ],
      "metadata": {
        "colab": {
          "base_uri": "https://localhost:8080/"
        },
        "id": "OzrVOddoOm_o",
        "outputId": "2d60eda5-829e-45c6-dffc-3681b1665f1e"
      },
      "execution_count": null,
      "outputs": [
        {
          "output_type": "stream",
          "name": "stdout",
          "text": [
            " R dos bobos \n",
            "R dos bobos\n"
          ]
        }
      ]
    },
    {
      "cell_type": "code",
      "source": [
        "# strip --> quebra a string, transforma numa lista\n",
        "endereco = 'R dos bobos, nro 0, fica no UY'\n",
        "endereco.split(',')"
      ],
      "metadata": {
        "colab": {
          "base_uri": "https://localhost:8080/"
        },
        "id": "mFgKfG6rO5Ox",
        "outputId": "ca0979ca-6d94-4276-ec86-ca25f741500a"
      },
      "execution_count": null,
      "outputs": [
        {
          "output_type": "execute_result",
          "data": {
            "text/plain": [
              "['R dos bobos', ' nro 0', ' fica no UY']"
            ]
          },
          "metadata": {},
          "execution_count": 39
        }
      ]
    },
    {
      "cell_type": "markdown",
      "source": [
        "# comando INPUT\n",
        "A funcao input() recebe como parametro uma string que sera mostrada como auxilio ao usuario , geralmente o informando que tipo de dado o programa esta aguardando receber"
      ],
      "metadata": {
        "id": "Eak9K_3aUNGK"
      }
    },
    {
      "cell_type": "code",
      "source": [
        "# exemplificando com um formulario:\n",
        "Nome = input('Qual seu nome: ')\n",
        "Idade = input('Qual a sua idade: ')\n",
        "\n",
        "print('Seu nome é: ', Nome)\n",
        "print('Sua idade é: ', Idade)"
      ],
      "metadata": {
        "colab": {
          "base_uri": "https://localhost:8080/"
        },
        "id": "6fgms_iSP3Si",
        "outputId": "8ed33eb1-73df-43d2-bdf9-1d93a4d34f32"
      },
      "execution_count": null,
      "outputs": [
        {
          "output_type": "stream",
          "name": "stdout",
          "text": [
            "Qual seu nome: Camila\n",
            "Qual a sua idade: 29\n",
            "Seu nome é:  Camila\n",
            "Sua idade é:  29\n"
          ]
        }
      ]
    },
    {
      "cell_type": "markdown",
      "source": [
        "# Operadores de comparacao\n",
        "\n",
        "1.   Igual a: ==\n",
        "2.   Diferente: !=\n",
        "3.   Maior: >\n",
        "4.   Menor: <\n",
        "5.   Maior ou igual: >=\n",
        "6.   Menor ou igual: <=\n",
        "\n"
      ],
      "metadata": {
        "id": "N5o3l7NhVg_n"
      }
    },
    {
      "cell_type": "code",
      "source": [
        "print(10 == 10)\n",
        "print(10 != 10)\n",
        "print(1 > 8)\n",
        "print(10 < 9)\n",
        "print(50 >= 10)\n",
        "print(1.5 <= 10)\n",
        "print(12 == 10)\n"
      ],
      "metadata": {
        "colab": {
          "base_uri": "https://localhost:8080/"
        },
        "id": "a--3NPgAUq-G",
        "outputId": "b867352e-b49e-4bad-f081-a5a162b607c3"
      },
      "execution_count": null,
      "outputs": [
        {
          "output_type": "stream",
          "name": "stdout",
          "text": [
            "True\n",
            "False\n",
            "False\n",
            "False\n",
            "True\n",
            "True\n",
            "False\n"
          ]
        }
      ]
    },
    {
      "cell_type": "markdown",
      "source": [
        "# Operadores logicos\n",
        "Os operadores logicos sao usados para combinar instrucoes condicionais:\n",
        "\n",
        "\n",
        "1.   AND: retorna True se ambas declaracoes forem verdadeiras\n",
        "2.   OR: retorna True se pelo menos uma das declaracoes for verdadeira\n",
        "3.   NOT: inverte o resultado, retorna False se o resultado for verdadeiro\n",
        "\n"
      ],
      "metadata": {
        "id": "szcpujZqWrkb"
      }
    },
    {
      "cell_type": "code",
      "source": [
        "print(10 == 10 and 10 != 4)\n",
        "print(10 > 10 and 10 != 4)\n",
        "print(10 > 10 or 10 != 4)\n",
        "print(10 < 10 or 10 <= 4)"
      ],
      "metadata": {
        "colab": {
          "base_uri": "https://localhost:8080/"
        },
        "id": "IoFas1oNWHm8",
        "outputId": "1a8e3cb3-677e-4f06-f38d-a6f95b6879fa"
      },
      "execution_count": null,
      "outputs": [
        {
          "output_type": "stream",
          "name": "stdout",
          "text": [
            "True\n",
            "False\n",
            "True\n",
            "False\n"
          ]
        }
      ]
    },
    {
      "cell_type": "code",
      "source": [
        "lista = [1,2,3,4,5,6,7]\n",
        "print(10 in lista)\n",
        "print(10 not in lista)"
      ],
      "metadata": {
        "colab": {
          "base_uri": "https://localhost:8080/"
        },
        "id": "v6yIOhb8X0MY",
        "outputId": "19321f87-50d4-4c85-f6eb-0974cc6c9394"
      },
      "execution_count": null,
      "outputs": [
        {
          "output_type": "stream",
          "name": "stdout",
          "text": [
            "False\n",
            "True\n"
          ]
        }
      ]
    },
    {
      "cell_type": "markdown",
      "source": [
        "# Operadores de identidade\n",
        "Os operadores de identidade sao usados para comparar objetos, nao se forem iguais, mas se forem realmente o mesmo objeto, com a mesma localizacao de memoria:\n",
        "\n",
        "\n",
        "1.   is: retorna True se ambas as variaveis forem o mesmo objeto\n",
        "2.   is not: retorna True se ambas as variaveis nao forem o mesmo objeto\n",
        "\n"
      ],
      "metadata": {
        "id": "eXAaidB-Y0y5"
      }
    },
    {
      "cell_type": "code",
      "source": [
        "string_01 = 'oi'\n",
        "string_02 = 'oi'"
      ],
      "metadata": {
        "id": "ITp030LkYVRs"
      },
      "execution_count": null,
      "outputs": []
    },
    {
      "cell_type": "code",
      "source": [
        "type(string_01) == type(string_02)"
      ],
      "metadata": {
        "colab": {
          "base_uri": "https://localhost:8080/"
        },
        "id": "X-FnL6kqaFHR",
        "outputId": "a080391d-dccc-4586-c233-e0b783cb4274"
      },
      "execution_count": null,
      "outputs": [
        {
          "output_type": "execute_result",
          "data": {
            "text/plain": [
              "True"
            ]
          },
          "metadata": {},
          "execution_count": 50
        }
      ]
    },
    {
      "cell_type": "code",
      "source": [
        "type(string_01) is type(string_02)"
      ],
      "metadata": {
        "colab": {
          "base_uri": "https://localhost:8080/"
        },
        "id": "-KydZYfiaMsK",
        "outputId": "9a2267fc-3b0f-4118-f148-a56f9c5cbacf"
      },
      "execution_count": null,
      "outputs": [
        {
          "output_type": "execute_result",
          "data": {
            "text/plain": [
              "True"
            ]
          },
          "metadata": {},
          "execution_count": 51
        }
      ]
    },
    {
      "cell_type": "markdown",
      "source": [
        "# Operadores associacao\n",
        "Os operadores de associacao sao usados para testar se uma sequencia é apresentada em um objeto:\n",
        "\n",
        "\n",
        "1.   in: retorna True se uma sequencia com o valor especificado estiver presente no objeto\n",
        "2.   not in: etorna True se uma sequencia com o valor especificado NÃO estiver presente no objeto \n",
        "\n"
      ],
      "metadata": {
        "id": "ELNL5GULaf2e"
      }
    },
    {
      "cell_type": "code",
      "source": [
        "lista_mercados = ['carrefour', 'lidl', 'mercadona']\n",
        "print('guanabara' in lista_mercados)\n",
        "print('guanabara' not in lista_mercados)\n",
        "print('lidl' in lista_mercados)"
      ],
      "metadata": {
        "colab": {
          "base_uri": "https://localhost:8080/"
        },
        "id": "moNVS6wVaTkb",
        "outputId": "9f13cb4e-05ca-4d46-9543-fee122fafca3"
      },
      "execution_count": null,
      "outputs": [
        {
          "output_type": "stream",
          "name": "stdout",
          "text": [
            "False\n",
            "True\n",
            "True\n"
          ]
        }
      ]
    },
    {
      "cell_type": "markdown",
      "source": [
        "# Manipulando Listas\n",
        "As listas sao usadas para armazenar varios itens de uma unica variavel;\n",
        "\n",
        "Comandos mais utilizados\n",
        "\n",
        "\n",
        "1.   append() - para adicionar um item ao final da lista\n",
        "2.   len() - calcular o tamanho da lista\n",
        "3.   ##### [ ] - acessar posicoes\n",
        "4.   del() - excluir um elemento\n",
        "5.   clear() - limpar a lista\n",
        "6.   insert() - para inserir um item de lista em um índice especificado\n",
        "7.   extend() - anexar elementos de outra lista a lista atual\n",
        "8.   remove() - remove o item especificado\n",
        "9.   pop() - remove o indice especificado\n",
        "10.  sort() - ordenar os valores\n",
        "11.  copy() - faz uma copia da lista\n",
        "12.  index() - retorna o index do elemento da lista\n",
        "\n"
      ],
      "metadata": {
        "id": "zDqJVSSk9-hV"
      }
    },
    {
      "cell_type": "code",
      "source": [
        "lista_vazia = []\n",
        "print(lista_vazia)"
      ],
      "metadata": {
        "id": "PWbS9E4cbvCg",
        "colab": {
          "base_uri": "https://localhost:8080/"
        },
        "outputId": "bca7e978-e916-4567-da62-82b7a47a6f1c"
      },
      "execution_count": 7,
      "outputs": [
        {
          "output_type": "stream",
          "name": "stdout",
          "text": [
            "[]\n"
          ]
        }
      ]
    },
    {
      "cell_type": "code",
      "source": [
        "lista_vazia.append( 1 )\n",
        "lista_vazia.append( 2 )\n",
        "lista_vazia.append( 3.5 )\n",
        "lista_vazia.append( 'valor' )"
      ],
      "metadata": {
        "id": "d0Br9Cqh_ufL"
      },
      "execution_count": 9,
      "outputs": []
    },
    {
      "cell_type": "code",
      "source": [
        "lista_vazia"
      ],
      "metadata": {
        "colab": {
          "base_uri": "https://localhost:8080/"
        },
        "id": "azfeE7lPAXT0",
        "outputId": "9fd619b6-10df-4d7d-d4ab-714f856ba520"
      },
      "execution_count": 10,
      "outputs": [
        {
          "output_type": "execute_result",
          "data": {
            "text/plain": [
              "[1, 2, 3.5, 'valor']"
            ]
          },
          "metadata": {},
          "execution_count": 10
        }
      ]
    },
    {
      "cell_type": "code",
      "source": [
        "len(lista_vazia)"
      ],
      "metadata": {
        "colab": {
          "base_uri": "https://localhost:8080/"
        },
        "id": "r-47xDa6AfxV",
        "outputId": "50202dc4-9471-439f-ef0b-357fbd094d92"
      },
      "execution_count": 11,
      "outputs": [
        {
          "output_type": "execute_result",
          "data": {
            "text/plain": [
              "4"
            ]
          },
          "metadata": {},
          "execution_count": 11
        }
      ]
    },
    {
      "cell_type": "code",
      "source": [
        "# acessar lista é igual acessar string\n",
        "print(lista_vazia[0])\n",
        "print(lista_vazia[0:4])\n",
        "print(lista_vazia[-1])\n",
        "print(lista_vazia[3])"
      ],
      "metadata": {
        "colab": {
          "base_uri": "https://localhost:8080/"
        },
        "id": "VkuMQZ9mAmrq",
        "outputId": "591b9b03-e4dc-40c7-c805-0d09f43027ec"
      },
      "execution_count": 12,
      "outputs": [
        {
          "output_type": "stream",
          "name": "stdout",
          "text": [
            "1\n",
            "[1, 2, 3.5, 'valor']\n",
            "valor\n",
            "valor\n"
          ]
        }
      ]
    },
    {
      "cell_type": "code",
      "source": [
        "# limpar a lista\n",
        "print(lista_vazia)\n",
        "lista_vazia.clear()\n",
        "print(lista_vazia)"
      ],
      "metadata": {
        "colab": {
          "base_uri": "https://localhost:8080/"
        },
        "id": "JHhpNd98BA0F",
        "outputId": "1c76d44b-406a-44ac-bc2d-c8779f757165"
      },
      "execution_count": 17,
      "outputs": [
        {
          "output_type": "stream",
          "name": "stdout",
          "text": [
            "['inseri no comeco', 'inseri no comeco', 1, 2, 3.5, 'valor', 1, 2, 3.5, 'valor', 1, 2, 3.5, 'valor']\n",
            "[]\n"
          ]
        }
      ]
    },
    {
      "cell_type": "code",
      "source": [
        "# append x insert :\n",
        "# append vai inserindo o valor sempre no final da lista (para a direita)\n",
        "# no insert a gente escolhe o local insert(posicao, valor)\n",
        "\n",
        "lista_vazia.append( 1 )\n",
        "lista_vazia.append( 2 )\n",
        "lista_vazia.append( 3.5 )\n",
        "lista_vazia.append( 'valor' )\n",
        "\n",
        "print(lista_vazia)\n",
        "\n",
        "lista_vazia.insert(0,'inseri no comeco')\n",
        "\n",
        "print(lista_vazia)"
      ],
      "metadata": {
        "colab": {
          "base_uri": "https://localhost:8080/"
        },
        "id": "W-WOUeflBvOe",
        "outputId": "709249e5-6161-426c-81d0-b5b87694b8ac"
      },
      "execution_count": 18,
      "outputs": [
        {
          "output_type": "stream",
          "name": "stdout",
          "text": [
            "[1, 2, 3.5, 'valor']\n",
            "['inseri no comeco', 1, 2, 3.5, 'valor']\n"
          ]
        }
      ]
    },
    {
      "cell_type": "code",
      "source": [
        "# inserir uma lista dentro de outra lista\n",
        "# lista_principal.extend(lista_que_eu_quero_inserir_na_principal)\n",
        "\n",
        "lista_03 = [1,2,3]\n",
        "lista_04 = [4,5,6]\n",
        "\n",
        "lista_03.extend(lista_04)\n",
        "\n",
        "print(lista_03)"
      ],
      "metadata": {
        "colab": {
          "base_uri": "https://localhost:8080/"
        },
        "id": "FU3dS9UmCBCZ",
        "outputId": "2ae23492-369d-41a1-d75c-547931e81d5b"
      },
      "execution_count": 19,
      "outputs": [
        {
          "output_type": "stream",
          "name": "stdout",
          "text": [
            "[1, 2, 3, 4, 5, 6]\n"
          ]
        }
      ]
    },
    {
      "cell_type": "code",
      "source": [
        ""
      ],
      "metadata": {
        "id": "EX0YToUcCsJf"
      },
      "execution_count": null,
      "outputs": []
    },
    {
      "cell_type": "code",
      "source": [
        "# removendo um valor\n",
        "lista_03.remove(5)\n",
        "print(lista_03)"
      ],
      "metadata": {
        "colab": {
          "base_uri": "https://localhost:8080/"
        },
        "id": "rO1E07QsDO-w",
        "outputId": "0e97c536-35b6-4476-f0e2-3761f182602c"
      },
      "execution_count": 20,
      "outputs": [
        {
          "output_type": "stream",
          "name": "stdout",
          "text": [
            "[1, 2, 3, 4, 6]\n"
          ]
        }
      ]
    },
    {
      "cell_type": "code",
      "source": [
        "# removendo um valor por posicao (pelo seu index)\n",
        "# ex: o primeiro valor, o valor da posicao 0\n",
        "lista_03.pop(0)\n",
        "print(lista_03)\n"
      ],
      "metadata": {
        "colab": {
          "base_uri": "https://localhost:8080/"
        },
        "id": "EhFHzCIaDPIj",
        "outputId": "a723d3b5-e6a7-4b9f-a750-6bf46c4ce036"
      },
      "execution_count": 22,
      "outputs": [
        {
          "output_type": "stream",
          "name": "stdout",
          "text": [
            "[2, 3, 4, 6]\n"
          ]
        }
      ]
    },
    {
      "cell_type": "code",
      "source": [
        "# ordenando uma lista\n",
        "\n",
        "lista_abc = ['z', 'm', 'b', 'a', 'k']\n",
        "print(lista_abc)\n",
        "lista_abc.sort()\n",
        "print(lista_abc)\n",
        "\n",
        "# em ordem descrescente\n",
        "lista_abc.sort( reverse=True )\n",
        "print(lista_abc)"
      ],
      "metadata": {
        "colab": {
          "base_uri": "https://localhost:8080/"
        },
        "id": "D10SEGu4DlUt",
        "outputId": "f46d45c0-dfb2-40f2-945b-d3e1d1d4268a"
      },
      "execution_count": 24,
      "outputs": [
        {
          "output_type": "stream",
          "name": "stdout",
          "text": [
            "['z', 'm', 'b', 'a', 'k']\n",
            "['a', 'b', 'k', 'm', 'z']\n",
            "['z', 'm', 'k', 'b', 'a']\n"
          ]
        }
      ]
    },
    {
      "cell_type": "code",
      "source": [
        "# copiando uma lista\n",
        "lista_nova = lista_abc.copy()\n",
        "lista_nova"
      ],
      "metadata": {
        "colab": {
          "base_uri": "https://localhost:8080/"
        },
        "id": "LYOHH3AQFP7_",
        "outputId": "7ece9ca6-e29d-43a5-91ea-8b4afb2f28bc"
      },
      "execution_count": 25,
      "outputs": [
        {
          "output_type": "execute_result",
          "data": {
            "text/plain": [
              "['z', 'm', 'k', 'b', 'a']"
            ]
          },
          "metadata": {},
          "execution_count": 25
        }
      ]
    },
    {
      "cell_type": "code",
      "source": [
        "# OBS: se eu fizesse lista_nova = lista_abc tbm daria certo, mas nao eh recomendado, \n",
        "# visto que se eu fizer alguma mudanca na lista_nova, vai alterar a lista abc"
      ],
      "metadata": {
        "id": "KVk1LDOEFnoS"
      },
      "execution_count": null,
      "outputs": []
    },
    {
      "cell_type": "code",
      "source": [
        "# decobrir o index(posicao) de um valor dentro da lista\n",
        "lista_abc.index('k')"
      ],
      "metadata": {
        "colab": {
          "base_uri": "https://localhost:8080/"
        },
        "id": "0dJX3gKHF9fK",
        "outputId": "55a246bd-e78b-4d19-b1a0-73beef80a404"
      },
      "execution_count": 26,
      "outputs": [
        {
          "output_type": "execute_result",
          "data": {
            "text/plain": [
              "2"
            ]
          },
          "metadata": {},
          "execution_count": 26
        }
      ]
    },
    {
      "cell_type": "markdown",
      "source": [
        "# pacote externo: DATETIME\n",
        "o datetime eh uma biblioteca que fornece classes para manipulacao de datas e horas"
      ],
      "metadata": {
        "id": "eY9nmvHAGclO"
      }
    },
    {
      "cell_type": "code",
      "source": [
        "type('01/01/2022')"
      ],
      "metadata": {
        "colab": {
          "base_uri": "https://localhost:8080/"
        },
        "id": "A4NcGPsNGKbU",
        "outputId": "f41770d8-6c14-47be-e41c-af4115bc2d65"
      },
      "execution_count": 27,
      "outputs": [
        {
          "output_type": "execute_result",
          "data": {
            "text/plain": [
              "str"
            ]
          },
          "metadata": {},
          "execution_count": 27
        }
      ]
    },
    {
      "cell_type": "code",
      "source": [
        "import datetime"
      ],
      "metadata": {
        "id": "LP8Fj8d_G9Zt"
      },
      "execution_count": 28,
      "outputs": []
    },
    {
      "cell_type": "code",
      "source": [
        "data_hoje = datetime.datetime.today()\n",
        "print(data_hoje)"
      ],
      "metadata": {
        "colab": {
          "base_uri": "https://localhost:8080/"
        },
        "id": "cRFMcEN4G_97",
        "outputId": "2f8de9a2-7fa8-4f74-e679-9d97805ac3e7"
      },
      "execution_count": 29,
      "outputs": [
        {
          "output_type": "stream",
          "name": "stdout",
          "text": [
            "2022-04-28 07:39:57.797045\n"
          ]
        }
      ]
    },
    {
      "cell_type": "code",
      "source": [
        "type(data_hoje)"
      ],
      "metadata": {
        "colab": {
          "base_uri": "https://localhost:8080/"
        },
        "id": "TZTmY0qGHMEo",
        "outputId": "c13f7e6c-72bf-4c4b-8098-e9a3f5470836"
      },
      "execution_count": 30,
      "outputs": [
        {
          "output_type": "execute_result",
          "data": {
            "text/plain": [
              "datetime.datetime"
            ]
          },
          "metadata": {},
          "execution_count": 30
        }
      ]
    },
    {
      "cell_type": "code",
      "source": [
        "# deixando apenas a data\n",
        "print(datetime.datetime.today().date())"
      ],
      "metadata": {
        "colab": {
          "base_uri": "https://localhost:8080/"
        },
        "id": "y9Ro2WUkHS09",
        "outputId": "755d0000-4f2e-4e46-f5c4-811e84d227be"
      },
      "execution_count": 32,
      "outputs": [
        {
          "output_type": "stream",
          "name": "stdout",
          "text": [
            "2022-04-28\n"
          ]
        }
      ]
    },
    {
      "cell_type": "code",
      "source": [
        "# extraindo ano, mes dia\n",
        "data = datetime.datetime.today().date()\n",
        "ano = data.year\n",
        "mes = data.month\n",
        "dia = data.day\n",
        "\n",
        "print(ano, mes, dia)"
      ],
      "metadata": {
        "colab": {
          "base_uri": "https://localhost:8080/"
        },
        "id": "YlM335KvHvq3",
        "outputId": "f0714bf2-dd96-49fc-ea24-048f584e79dd"
      },
      "execution_count": 33,
      "outputs": [
        {
          "output_type": "stream",
          "name": "stdout",
          "text": [
            "2022 4 28\n"
          ]
        }
      ]
    },
    {
      "cell_type": "code",
      "source": [
        "# criando uma data ano/mes/dia\n",
        "\n",
        "data_ant = datetime.date(2022,1,1)\n",
        "data_ant"
      ],
      "metadata": {
        "colab": {
          "base_uri": "https://localhost:8080/"
        },
        "id": "8tu-3LzmINiw",
        "outputId": "a88455f4-2c14-45e9-ea2d-309f70153e50"
      },
      "execution_count": 35,
      "outputs": [
        {
          "output_type": "execute_result",
          "data": {
            "text/plain": [
              "datetime.date(2022, 1, 1)"
            ]
          },
          "metadata": {},
          "execution_count": 35
        }
      ]
    },
    {
      "cell_type": "code",
      "source": [
        "# comparacao entre datas\n",
        "data - data_ant"
      ],
      "metadata": {
        "colab": {
          "base_uri": "https://localhost:8080/"
        },
        "id": "DuyrdUnLIjXj",
        "outputId": "1af21d00-94cf-438c-d090-d96bb3475f85"
      },
      "execution_count": 36,
      "outputs": [
        {
          "output_type": "execute_result",
          "data": {
            "text/plain": [
              "datetime.timedelta(days=117)"
            ]
          },
          "metadata": {},
          "execution_count": 36
        }
      ]
    },
    {
      "cell_type": "code",
      "source": [
        "# modificando a configuracao da data\n",
        "data.strftime('%d/%m/%y')"
      ],
      "metadata": {
        "colab": {
          "base_uri": "https://localhost:8080/",
          "height": 35
        },
        "id": "ZTIigYZtIwf6",
        "outputId": "4986c91c-aad0-43ad-f78d-42c2eee1a5f2"
      },
      "execution_count": 39,
      "outputs": [
        {
          "output_type": "execute_result",
          "data": {
            "text/plain": [
              "'28/04/22'"
            ],
            "application/vnd.google.colaboratory.intrinsic+json": {
              "type": "string"
            }
          },
          "metadata": {},
          "execution_count": 39
        }
      ]
    },
    {
      "cell_type": "code",
      "source": [
        "# operacoes com datas\n",
        "data + datetime.timedelta(days=30)"
      ],
      "metadata": {
        "colab": {
          "base_uri": "https://localhost:8080/"
        },
        "id": "ll-XRJLGJNLn",
        "outputId": "44c9b100-7a39-478a-a1db-3b9eb3af42c1"
      },
      "execution_count": 40,
      "outputs": [
        {
          "output_type": "execute_result",
          "data": {
            "text/plain": [
              "datetime.date(2022, 5, 28)"
            ]
          },
          "metadata": {},
          "execution_count": 40
        }
      ]
    },
    {
      "cell_type": "markdown",
      "source": [
        "# Pacote externo: TIME\n",
        "Esta eh uma biblioteca que fornece varias funcoes relacionadas ao tempo"
      ],
      "metadata": {
        "id": "inVXgZf-J_nd"
      }
    },
    {
      "cell_type": "code",
      "source": [
        "import time"
      ],
      "metadata": {
        "id": "U6JUimkWJyiw"
      },
      "execution_count": 41,
      "outputs": []
    },
    {
      "cell_type": "code",
      "source": [
        "# quando precisa esperar para rodar \n",
        "# ex: esperar 3s entre um print e outro\n",
        "print('comecei agora...')\n",
        "time.sleep(3)\n",
        "print('terminei')"
      ],
      "metadata": {
        "colab": {
          "base_uri": "https://localhost:8080/"
        },
        "id": "5bPQO6tXKbEa",
        "outputId": "ebd4c51b-a079-43a7-c2f2-22233ce58fb6"
      },
      "execution_count": 42,
      "outputs": [
        {
          "output_type": "stream",
          "name": "stdout",
          "text": [
            "comecei agora...\n",
            "terminei\n"
          ]
        }
      ]
    },
    {
      "cell_type": "code",
      "source": [
        "agora = time.localtime()\n",
        "print(agora)\n",
        "print( type(agora))"
      ],
      "metadata": {
        "colab": {
          "base_uri": "https://localhost:8080/"
        },
        "id": "ntwQ0oheKhB0",
        "outputId": "dea7c68e-a7b4-47a1-81be-35c2ba3a57d1"
      },
      "execution_count": 43,
      "outputs": [
        {
          "output_type": "stream",
          "name": "stdout",
          "text": [
            "time.struct_time(tm_year=2022, tm_mon=4, tm_mday=28, tm_hour=7, tm_min=56, tm_sec=36, tm_wday=3, tm_yday=118, tm_isdst=0)\n",
            "<class 'time.struct_time'>\n"
          ]
        }
      ]
    },
    {
      "cell_type": "code",
      "source": [
        "time.strftime('%m/%d/%y, %H:%M:%S', agora)"
      ],
      "metadata": {
        "colab": {
          "base_uri": "https://localhost:8080/",
          "height": 35
        },
        "id": "PVOMwVL1K_2F",
        "outputId": "a3b4b93f-05c9-42a8-f008-347ea4fd9ea3"
      },
      "execution_count": 47,
      "outputs": [
        {
          "output_type": "execute_result",
          "data": {
            "text/plain": [
              "'04/28/22, 07:56:36'"
            ],
            "application/vnd.google.colaboratory.intrinsic+json": {
              "type": "string"
            }
          },
          "metadata": {},
          "execution_count": 47
        }
      ]
    },
    {
      "cell_type": "code",
      "source": [
        "time_texto = '21 June, 2021'\n",
        "time.strptime(time_texto, '%d %B, %Y')\n",
        "\n",
        "# olhar o pacote TIME para saber outras conversoes"
      ],
      "metadata": {
        "colab": {
          "base_uri": "https://localhost:8080/"
        },
        "id": "w3JguYSQLlmT",
        "outputId": "fb7847b7-ee7f-4831-d3ff-d6973248ac09"
      },
      "execution_count": 48,
      "outputs": [
        {
          "output_type": "execute_result",
          "data": {
            "text/plain": [
              "time.struct_time(tm_year=2021, tm_mon=6, tm_mday=21, tm_hour=0, tm_min=0, tm_sec=0, tm_wday=0, tm_yday=172, tm_isdst=-1)"
            ]
          },
          "metadata": {},
          "execution_count": 48
        }
      ]
    },
    {
      "cell_type": "markdown",
      "source": [
        "# Pacote externo: MATH\n",
        "O Python possui um conjunto de funcoes matematicas integradas, incluindo um extenso modulo matematico, que permite realizar tarefas matematicas em numeros."
      ],
      "metadata": {
        "id": "S6OxAwWeOG1G"
      }
    },
    {
      "cell_type": "code",
      "source": [
        "import math"
      ],
      "metadata": {
        "id": "PON4JjNrNva3"
      },
      "execution_count": 49,
      "outputs": []
    },
    {
      "cell_type": "code",
      "source": [
        "tupla = (10, 20, 45, 100)\n",
        "# valor minimo\n",
        "min(tupla)"
      ],
      "metadata": {
        "colab": {
          "base_uri": "https://localhost:8080/"
        },
        "id": "kHzBULZPO_oD",
        "outputId": "a80eb6ec-264a-4779-b8e9-0680d63d652a"
      },
      "execution_count": 50,
      "outputs": [
        {
          "output_type": "execute_result",
          "data": {
            "text/plain": [
              "10"
            ]
          },
          "metadata": {},
          "execution_count": 50
        }
      ]
    },
    {
      "cell_type": "code",
      "source": [
        "# valor maximo\n",
        "max(tupla)"
      ],
      "metadata": {
        "colab": {
          "base_uri": "https://localhost:8080/"
        },
        "id": "UsR9eb45POum",
        "outputId": "f7cf9485-5ef3-4cbe-cfab-afaaee0696a6"
      },
      "execution_count": 51,
      "outputs": [
        {
          "output_type": "execute_result",
          "data": {
            "text/plain": [
              "100"
            ]
          },
          "metadata": {},
          "execution_count": 51
        }
      ]
    },
    {
      "cell_type": "code",
      "source": [
        "# passar um valor negativo para positivo\n",
        "abs(-10.4)"
      ],
      "metadata": {
        "colab": {
          "base_uri": "https://localhost:8080/"
        },
        "id": "_Hx-cHtVPRD4",
        "outputId": "0efcea34-7cba-4425-817b-ed517aef129b"
      },
      "execution_count": 52,
      "outputs": [
        {
          "output_type": "execute_result",
          "data": {
            "text/plain": [
              "10.4"
            ]
          },
          "metadata": {},
          "execution_count": 52
        }
      ]
    },
    {
      "cell_type": "code",
      "source": [
        "# potenciacao pow(base, expoente)\n",
        "pow(2, 3)"
      ],
      "metadata": {
        "colab": {
          "base_uri": "https://localhost:8080/"
        },
        "id": "q7dJD2pBPZ99",
        "outputId": "2d53f0b1-5a32-48a7-d78e-e014bbe9f277"
      },
      "execution_count": 53,
      "outputs": [
        {
          "output_type": "execute_result",
          "data": {
            "text/plain": [
              "8"
            ]
          },
          "metadata": {},
          "execution_count": 53
        }
      ]
    },
    {
      "cell_type": "code",
      "source": [
        "# raiz quadrada \n",
        "math.sqrt(100)"
      ],
      "metadata": {
        "colab": {
          "base_uri": "https://localhost:8080/"
        },
        "id": "qwlcKW7TPinF",
        "outputId": "5402a467-2961-468b-aecd-b7308033129c"
      },
      "execution_count": 54,
      "outputs": [
        {
          "output_type": "execute_result",
          "data": {
            "text/plain": [
              "10.0"
            ]
          },
          "metadata": {},
          "execution_count": 54
        }
      ]
    },
    {
      "cell_type": "code",
      "source": [
        "# arredondamento para O NRO INTEIRO MAIS PRÓXIMO E PARA MAIS\n",
        "math.ceil(1.2)"
      ],
      "metadata": {
        "colab": {
          "base_uri": "https://localhost:8080/"
        },
        "id": "-n6yE_cYPvKO",
        "outputId": "184e84a6-9f80-45e4-d96c-08b90e5053d8"
      },
      "execution_count": 55,
      "outputs": [
        {
          "output_type": "execute_result",
          "data": {
            "text/plain": [
              "2"
            ]
          },
          "metadata": {},
          "execution_count": 55
        }
      ]
    },
    {
      "cell_type": "code",
      "source": [
        "# arredondamento para O NRO INTEIRO MAIS PRÓXIMO E MENOR\n",
        "math.floor(1.9)"
      ],
      "metadata": {
        "colab": {
          "base_uri": "https://localhost:8080/"
        },
        "id": "hm4_n0USP-_u",
        "outputId": "14d332a3-9e03-46bf-c326-5f6a826df969"
      },
      "execution_count": 56,
      "outputs": [
        {
          "output_type": "execute_result",
          "data": {
            "text/plain": [
              "1"
            ]
          },
          "metadata": {},
          "execution_count": 56
        }
      ]
    },
    {
      "cell_type": "code",
      "source": [
        "# expolrar as outras inumeras funcoes do pacote math, como pi, seno, tangente..\n",
        "math.cos(math.pi)"
      ],
      "metadata": {
        "colab": {
          "base_uri": "https://localhost:8080/"
        },
        "id": "EbngCVP2QHiC",
        "outputId": "1061fa7f-e1b3-48b7-9b73-1ec55862dcb8"
      },
      "execution_count": 60,
      "outputs": [
        {
          "output_type": "execute_result",
          "data": {
            "text/plain": [
              "-1.0"
            ]
          },
          "metadata": {},
          "execution_count": 60
        }
      ]
    },
    {
      "cell_type": "markdown",
      "source": [
        "# Pacote externo: RANDOM\n",
        "Este modulo implementa geradores de numeros pseudo-aleatorios para varias distribuicoes"
      ],
      "metadata": {
        "id": "RKfDkGDtKH--"
      }
    },
    {
      "cell_type": "code",
      "source": [
        "import random"
      ],
      "metadata": {
        "id": "0bUBQo7nQnq8"
      },
      "execution_count": 1,
      "outputs": []
    },
    {
      "cell_type": "code",
      "source": [
        "lista = [1,2,3,4,5,6,7,8,9]"
      ],
      "metadata": {
        "id": "urAs62r2Kg27"
      },
      "execution_count": 2,
      "outputs": []
    },
    {
      "cell_type": "code",
      "source": [
        "# fazer um sorteio\n",
        "random.choice(lista)"
      ],
      "metadata": {
        "colab": {
          "base_uri": "https://localhost:8080/"
        },
        "id": "8R9qYt_wKpDY",
        "outputId": "ad806ce1-76d6-4ba0-8351-482f4989f48e"
      },
      "execution_count": 3,
      "outputs": [
        {
          "output_type": "execute_result",
          "data": {
            "text/plain": [
              "4"
            ]
          },
          "metadata": {},
          "execution_count": 3
        }
      ]
    },
    {
      "cell_type": "code",
      "source": [
        "palavra = 'camila'\n",
        "random.choice(palavra)"
      ],
      "metadata": {
        "colab": {
          "base_uri": "https://localhost:8080/",
          "height": 35
        },
        "id": "mpV9es0-Kuhc",
        "outputId": "4c8c4fe9-c2f6-4562-bfa8-ac85f66ad07a"
      },
      "execution_count": 4,
      "outputs": [
        {
          "output_type": "execute_result",
          "data": {
            "text/plain": [
              "'a'"
            ],
            "application/vnd.google.colaboratory.intrinsic+json": {
              "type": "string"
            }
          },
          "metadata": {},
          "execution_count": 4
        }
      ]
    },
    {
      "cell_type": "code",
      "source": [
        "# nro aleatorio entre 0 e 1\n",
        "random.random()"
      ],
      "metadata": {
        "colab": {
          "base_uri": "https://localhost:8080/"
        },
        "id": "N0eWqbAzLBiR",
        "outputId": "e7fb475f-b8a6-4050-f4ac-3f55d18a69d1"
      },
      "execution_count": 5,
      "outputs": [
        {
          "output_type": "execute_result",
          "data": {
            "text/plain": [
              "0.09037481886584298"
            ]
          },
          "metadata": {},
          "execution_count": 5
        }
      ]
    },
    {
      "cell_type": "code",
      "source": [
        "# nro aleatorio dentro de uma faixa que eu escolher\n",
        "random.randint(0, 100)"
      ],
      "metadata": {
        "colab": {
          "base_uri": "https://localhost:8080/"
        },
        "id": "WiPJav4fLHQ8",
        "outputId": "7ad1685e-d525-436d-f526-d12b7dd4c8f0"
      },
      "execution_count": 7,
      "outputs": [
        {
          "output_type": "execute_result",
          "data": {
            "text/plain": [
              "28"
            ]
          },
          "metadata": {},
          "execution_count": 7
        }
      ]
    },
    {
      "cell_type": "markdown",
      "source": [
        "# Pacote externo: STATISTICS\n",
        "Este modulo fornece funcoes para calcular estatisticas matematicas de dados numericos e interage com as listas"
      ],
      "metadata": {
        "id": "SCEg235kLlTp"
      }
    },
    {
      "cell_type": "code",
      "source": [
        "import statistics"
      ],
      "metadata": {
        "id": "GLwz2krjLSZc"
      },
      "execution_count": 8,
      "outputs": []
    },
    {
      "cell_type": "code",
      "source": [
        "lista = [10, 12, 15, 15, 20, 36, 55, 87, 99]"
      ],
      "metadata": {
        "id": "MoQCFGP2MBNe"
      },
      "execution_count": 19,
      "outputs": []
    },
    {
      "cell_type": "code",
      "source": [
        "# media\n",
        "sum(lista)/len(lista)"
      ],
      "metadata": {
        "colab": {
          "base_uri": "https://localhost:8080/"
        },
        "id": "zb0_TFvAMK9J",
        "outputId": "1dcf7858-6e8e-4aeb-8690-3f905d5ca81f"
      },
      "execution_count": 20,
      "outputs": [
        {
          "output_type": "execute_result",
          "data": {
            "text/plain": [
              "38.77777777777778"
            ]
          },
          "metadata": {},
          "execution_count": 20
        }
      ]
    },
    {
      "cell_type": "code",
      "source": [
        "# funcao media\n",
        "statistics.mean(lista)"
      ],
      "metadata": {
        "colab": {
          "base_uri": "https://localhost:8080/"
        },
        "id": "A5riiWf1MTLJ",
        "outputId": "c5c82b54-9760-45db-ab60-602838a131ec"
      },
      "execution_count": 21,
      "outputs": [
        {
          "output_type": "execute_result",
          "data": {
            "text/plain": [
              "38.77777777777778"
            ]
          },
          "metadata": {},
          "execution_count": 21
        }
      ]
    },
    {
      "cell_type": "code",
      "source": [
        "# mediana\n",
        "statistics.median(lista)"
      ],
      "metadata": {
        "colab": {
          "base_uri": "https://localhost:8080/"
        },
        "id": "M91rQtUjMdq6",
        "outputId": "6e1a3dcc-7b65-42c2-d857-de6fc4f22789"
      },
      "execution_count": 22,
      "outputs": [
        {
          "output_type": "execute_result",
          "data": {
            "text/plain": [
              "20"
            ]
          },
          "metadata": {},
          "execution_count": 22
        }
      ]
    },
    {
      "cell_type": "code",
      "source": [
        "# moda (valor que mais aparece)\n",
        "statistics.mode(lista)"
      ],
      "metadata": {
        "colab": {
          "base_uri": "https://localhost:8080/"
        },
        "id": "Xhbyjb9RM3HH",
        "outputId": "ca6ddcdc-af77-4861-feb5-16c3b069200a"
      },
      "execution_count": 23,
      "outputs": [
        {
          "output_type": "execute_result",
          "data": {
            "text/plain": [
              "15"
            ]
          },
          "metadata": {},
          "execution_count": 23
        }
      ]
    },
    {
      "cell_type": "markdown",
      "source": [
        "# condicao IF\n",
        "\n",
        "\n",
        "*   declaracoes a serem executadas SE (if)\n",
        "*   condicao verdadeira\n",
        "\n"
      ],
      "metadata": {
        "id": "gsWMP1iPNbEw"
      }
    },
    {
      "cell_type": "code",
      "source": [
        "idade = 18\n",
        "\n",
        "if idade >= 18:\n",
        "  print('Você é maior de idade!')\n",
        "else:\n",
        "  print('Você é menor de idade!')"
      ],
      "metadata": {
        "colab": {
          "base_uri": "https://localhost:8080/"
        },
        "id": "8t_ks9YdNO8K",
        "outputId": "abfa73d3-53a9-4037-83a0-79dce8b077cd"
      },
      "execution_count": 25,
      "outputs": [
        {
          "output_type": "stream",
          "name": "stdout",
          "text": [
            "Você é maior de idade!\n"
          ]
        }
      ]
    },
    {
      "cell_type": "code",
      "source": [
        "idade = random.randint(0, 20)\n",
        "print(idade)\n",
        "\n",
        "if idade >= 18:\n",
        "  print('Você é maior de idade!')\n",
        "else:\n",
        "  print('Você é menor de idade!')"
      ],
      "metadata": {
        "colab": {
          "base_uri": "https://localhost:8080/"
        },
        "id": "p6GxXnCCORnv",
        "outputId": "14c48cf2-3711-44d3-ab86-a981561d6115"
      },
      "execution_count": 26,
      "outputs": [
        {
          "output_type": "stream",
          "name": "stdout",
          "text": [
            "4\n",
            "Você é menor de idade!\n"
          ]
        }
      ]
    },
    {
      "cell_type": "code",
      "source": [
        "# varias condicoes\n",
        "idade = random.randint(0, 20)\n",
        "print(idade)\n",
        "\n",
        "if idade >= 18:\n",
        "  print('Você é maior de idade!')\n",
        "\n",
        "elif idade >= 15 and idade <= 17:\n",
        "  print('Seus pais podem autorizar.') \n",
        "\n",
        "else:\n",
        "  print('Você é menor de idade!')"
      ],
      "metadata": {
        "colab": {
          "base_uri": "https://localhost:8080/"
        },
        "id": "c5vL8wvxO0VI",
        "outputId": "94d5ceb1-1e64-4fbc-931e-5c9b3fd84bff"
      },
      "execution_count": 33,
      "outputs": [
        {
          "output_type": "stream",
          "name": "stdout",
          "text": [
            "15\n",
            "Seus pais podem autorizar.\n"
          ]
        }
      ]
    },
    {
      "cell_type": "markdown",
      "source": [
        "# LOOP FOR\n",
        "O loop for do Python eh usado para travessia sequencial, ou seja, para iterar sobre um iteravel como string, tuple, lista, etc. Ele se enquadra na categoria de iteracao definida. Iteracoes definidas significam que o nro de repeticoes eh especificado explicitamente com antecedencia.\n",
        "\n",
        "for variavel in objeto:\n",
        "\n",
        "*   loop\n"
      ],
      "metadata": {
        "id": "CqSMlXfbP8zx"
      }
    },
    {
      "cell_type": "code",
      "source": [
        "for tabuadado3 in range(11):\n",
        "  print(tabuadado3 * 3)\n"
      ],
      "metadata": {
        "colab": {
          "base_uri": "https://localhost:8080/"
        },
        "id": "kGIVPeswPYFN",
        "outputId": "7eec2ef0-eb96-4f57-f63a-b3ce85036b5e"
      },
      "execution_count": 34,
      "outputs": [
        {
          "output_type": "stream",
          "name": "stdout",
          "text": [
            "0\n",
            "3\n",
            "6\n",
            "9\n",
            "12\n",
            "15\n",
            "18\n",
            "21\n",
            "24\n",
            "27\n",
            "30\n"
          ]
        }
      ]
    },
    {
      "cell_type": "code",
      "source": [
        "for tabuadado3 in range(1,11):\n",
        "  print(tabuadado3 * 3)"
      ],
      "metadata": {
        "colab": {
          "base_uri": "https://localhost:8080/"
        },
        "id": "z552McN2Ral8",
        "outputId": "444b0aef-6694-4bb1-cc39-d5e9c90ec722"
      },
      "execution_count": 35,
      "outputs": [
        {
          "output_type": "stream",
          "name": "stdout",
          "text": [
            "3\n",
            "6\n",
            "9\n",
            "12\n",
            "15\n",
            "18\n",
            "21\n",
            "24\n",
            "27\n",
            "30\n"
          ]
        }
      ]
    },
    {
      "cell_type": "code",
      "source": [
        "paises = ['brasil', 'paraguai', 'uruguai', 'chile']\n",
        "\n",
        "for paises_america in paises:\n",
        "  print(paises_america.upper() + ' faz parte da América do Sul')"
      ],
      "metadata": {
        "colab": {
          "base_uri": "https://localhost:8080/"
        },
        "id": "crurMbEcRpw3",
        "outputId": "0e3576ec-6a86-4a6f-ffb1-a0b26bbd7813"
      },
      "execution_count": 38,
      "outputs": [
        {
          "output_type": "stream",
          "name": "stdout",
          "text": [
            "BRASIL faz parte da América do Sul\n",
            "PARAGUAI faz parte da América do Sul\n",
            "URUGUAI faz parte da América do Sul\n",
            "CHILE faz parte da América do Sul\n"
          ]
        }
      ]
    },
    {
      "cell_type": "code",
      "source": [
        "paises = ['brasil', 'paraguai', 'uruguai', 'chile']\n",
        "\n",
        "for pais_ in paises:\n",
        "\n",
        "  if pais_ == 'uruguai':\n",
        "    print(pais_, 'vale MUITO visitar')\n",
        "  \n",
        "  else:\n",
        "    print(pais_, 'vale visitar')"
      ],
      "metadata": {
        "colab": {
          "base_uri": "https://localhost:8080/"
        },
        "id": "i9P9vUqsSld5",
        "outputId": "c480b0a9-1fa9-4861-c208-9eb7faab5fad"
      },
      "execution_count": 44,
      "outputs": [
        {
          "output_type": "stream",
          "name": "stdout",
          "text": [
            "brasil vale visitar\n",
            "paraguai vale visitar\n",
            "uruguai vale MUITO visitar\n",
            "chile vale visitar\n"
          ]
        }
      ]
    },
    {
      "cell_type": "code",
      "source": [
        "# loop dentro de loop\n",
        "paises = ['brasil', 'paraguai', 'uruguai', 'chile']\n",
        "\n",
        "for pais_ in paises:\n",
        "\n",
        "  if pais_ == 'uruguai':\n",
        "    print(pais_, 'vale MUITO visitar')\n",
        "\n",
        "    for pais_ in range(10):\n",
        "      print(pais_)"
      ],
      "metadata": {
        "colab": {
          "base_uri": "https://localhost:8080/"
        },
        "id": "UxDZFcTgTfrj",
        "outputId": "e4386273-a8bc-4319-907d-b8dca98189ac"
      },
      "execution_count": 45,
      "outputs": [
        {
          "output_type": "stream",
          "name": "stdout",
          "text": [
            "uruguai vale MUITO visitar\n",
            "0\n",
            "1\n",
            "2\n",
            "3\n",
            "4\n",
            "5\n",
            "6\n",
            "7\n",
            "8\n",
            "9\n"
          ]
        }
      ]
    },
    {
      "cell_type": "code",
      "source": [
        "# acessando lista de outra maneiras\n",
        "# pelo index\n",
        "\n",
        "for loop in range( len(paises)):\n",
        "  print(loop)\n",
        "\n",
        "  #sao 4 paises, 4 index\n"
      ],
      "metadata": {
        "colab": {
          "base_uri": "https://localhost:8080/"
        },
        "id": "NVdje_6jUatS",
        "outputId": "538ede89-84bd-4e2b-a812-971bc28b0aa8"
      },
      "execution_count": 48,
      "outputs": [
        {
          "output_type": "stream",
          "name": "stdout",
          "text": [
            "0\n",
            "1\n",
            "2\n",
            "3\n"
          ]
        }
      ]
    },
    {
      "cell_type": "code",
      "source": [
        "for loop in range( len(paises)):\n",
        "  print(paises[loop])"
      ],
      "metadata": {
        "colab": {
          "base_uri": "https://localhost:8080/"
        },
        "id": "T5JcDNXqU8_z",
        "outputId": "635a8db7-03f4-4ebf-cfdc-2f8751389503"
      },
      "execution_count": 49,
      "outputs": [
        {
          "output_type": "stream",
          "name": "stdout",
          "text": [
            "brasil\n",
            "paraguai\n",
            "uruguai\n",
            "chile\n"
          ]
        }
      ]
    },
    {
      "cell_type": "code",
      "source": [
        "# se eu quiser só os pares:\n",
        "for loop in range(0, len(paises), 2):\n",
        "  print(paises[loop])"
      ],
      "metadata": {
        "colab": {
          "base_uri": "https://localhost:8080/"
        },
        "id": "Qddc_pniVQNL",
        "outputId": "7ff410da-409e-407a-d447-0b404a353554"
      },
      "execution_count": 50,
      "outputs": [
        {
          "output_type": "stream",
          "name": "stdout",
          "text": [
            "brasil\n",
            "uruguai\n"
          ]
        }
      ]
    },
    {
      "cell_type": "code",
      "source": [
        "# inserindo o index\n",
        "for Index, paises_ in enumerate(paises):\n",
        "  print(Index, paises_)"
      ],
      "metadata": {
        "colab": {
          "base_uri": "https://localhost:8080/"
        },
        "id": "EdpA3GmaVbyT",
        "outputId": "d73be657-2f63-4ebe-9bec-154b9befca99"
      },
      "execution_count": 51,
      "outputs": [
        {
          "output_type": "stream",
          "name": "stdout",
          "text": [
            "0 brasil\n",
            "1 paraguai\n",
            "2 uruguai\n",
            "3 chile\n"
          ]
        }
      ]
    },
    {
      "cell_type": "code",
      "source": [
        "x = 0\n",
        "\n",
        "for paises_ in paises:\n",
        "  print(x, paises_)\n",
        "  x+= 1"
      ],
      "metadata": {
        "colab": {
          "base_uri": "https://localhost:8080/"
        },
        "id": "Aj3GaLChV-V5",
        "outputId": "4a086a48-22fa-486e-809f-b77d6ad54aa6"
      },
      "execution_count": 52,
      "outputs": [
        {
          "output_type": "stream",
          "name": "stdout",
          "text": [
            "0 brasil\n",
            "1 paraguai\n",
            "2 uruguai\n",
            "3 chile\n"
          ]
        }
      ]
    },
    {
      "cell_type": "code",
      "source": [
        "x = 0\n",
        "\n",
        "for paises_ in paises:\n",
        "  print(x, paises_)\n",
        "  x = x + 1\n",
        "\n",
        "  # esta dentro do loop!\n",
        "  # em programacao ha sempre mtas maneiras de fazer a mesma coisa!"
      ],
      "metadata": {
        "colab": {
          "base_uri": "https://localhost:8080/"
        },
        "id": "XfP67pV4WPAh",
        "outputId": "7f26305f-073f-456c-efb9-50ceb1b0d171"
      },
      "execution_count": 53,
      "outputs": [
        {
          "output_type": "stream",
          "name": "stdout",
          "text": [
            "0 brasil\n",
            "1 paraguai\n",
            "2 uruguai\n",
            "3 chile\n"
          ]
        }
      ]
    },
    {
      "cell_type": "code",
      "source": [
        "# criando uma lista usando for, com valores de 0 a 10, pulando de 2 em 2\n",
        "lista = [numero for numero in range(0,10,2)]\n",
        "\n",
        "lista"
      ],
      "metadata": {
        "colab": {
          "base_uri": "https://localhost:8080/"
        },
        "id": "bSwpHH3tWe15",
        "outputId": "981f4af8-ffbb-458f-e62b-f584690c11cf"
      },
      "execution_count": 55,
      "outputs": [
        {
          "output_type": "execute_result",
          "data": {
            "text/plain": [
              "[0, 2, 4, 6, 8]"
            ]
          },
          "metadata": {},
          "execution_count": 55
        }
      ]
    },
    {
      "cell_type": "code",
      "source": [
        "lista = [numero **2 for numero in range(0,10,2)]\n",
        "\n",
        "lista\n",
        "\n",
        "# Posso manipular o meu valor como eu quiser antes do loop"
      ],
      "metadata": {
        "colab": {
          "base_uri": "https://localhost:8080/"
        },
        "id": "v_jOjglTW9af",
        "outputId": "b1a59117-2e82-48d9-a694-1494e31ae683"
      },
      "execution_count": 57,
      "outputs": [
        {
          "output_type": "execute_result",
          "data": {
            "text/plain": [
              "[0, 4, 16, 36, 64]"
            ]
          },
          "metadata": {},
          "execution_count": 57
        }
      ]
    },
    {
      "cell_type": "code",
      "source": [
        "# outra maneira de criar e povoar lista:\n",
        "lista = []\n",
        "\n",
        "for loop in range(0,10):\n",
        "  lista.append(loop)\n",
        "\n",
        "lista\n"
      ],
      "metadata": {
        "colab": {
          "base_uri": "https://localhost:8080/"
        },
        "id": "Ualo6F9DXMJJ",
        "outputId": "1be4763b-637b-409d-f3fb-9b58caccba9a"
      },
      "execution_count": 58,
      "outputs": [
        {
          "output_type": "execute_result",
          "data": {
            "text/plain": [
              "[0, 1, 2, 3, 4, 5, 6, 7, 8, 9]"
            ]
          },
          "metadata": {},
          "execution_count": 58
        }
      ]
    },
    {
      "cell_type": "markdown",
      "source": [
        "# LOOP WHILE\n",
        "Python while loop eh usado para executar um bloco de instrucoes repetidamente ate que uma determinada condicao seja satisfeita. E quando a condicao se torna falsa, a linha imediatamente apos o loop no programa eh executada. While loop se enquadra na categoria iteracao indefinida. A iteracao indefinida significa que o nro de vezes que o loop eh executado nao eh especificado explicitamente com antecedencia.\n",
        "\n",
        "while expressao:\n",
        "\n",
        "*   loop\n",
        "\n"
      ],
      "metadata": {
        "id": "CfYKE6crX4Q-"
      }
    },
    {
      "cell_type": "code",
      "source": [
        "parar = 0\n",
        "\n",
        "while parar <= 10:\n",
        "  print(parar)\n",
        "\n",
        "  parar += 1"
      ],
      "metadata": {
        "colab": {
          "base_uri": "https://localhost:8080/"
        },
        "id": "pFIEDQQ9XqMx",
        "outputId": "7840161b-a31e-434e-d0e0-9f29f2e2127b"
      },
      "execution_count": 59,
      "outputs": [
        {
          "output_type": "stream",
          "name": "stdout",
          "text": [
            "0\n",
            "1\n",
            "2\n",
            "3\n",
            "4\n",
            "5\n",
            "6\n",
            "7\n",
            "8\n",
            "9\n",
            "10\n"
          ]
        }
      ]
    },
    {
      "cell_type": "code",
      "source": [
        "loop = 0\n",
        "\n",
        "while loop <= 10:\n",
        "  print(loop)\n",
        "\n",
        "  if loop == 5:\n",
        "    for x in range(10):\n",
        "      print(x, 'opsss')\n",
        "  \n",
        "  loop += 1"
      ],
      "metadata": {
        "colab": {
          "base_uri": "https://localhost:8080/"
        },
        "id": "PbDX0Dcuan-S",
        "outputId": "5894eb90-52a7-446c-921e-7f6becd89f35"
      },
      "execution_count": 60,
      "outputs": [
        {
          "output_type": "stream",
          "name": "stdout",
          "text": [
            "0\n",
            "1\n",
            "2\n",
            "3\n",
            "4\n",
            "5\n",
            "0 opsss\n",
            "1 opsss\n",
            "2 opsss\n",
            "3 opsss\n",
            "4 opsss\n",
            "5 opsss\n",
            "6 opsss\n",
            "7 opsss\n",
            "8 opsss\n",
            "9 opsss\n",
            "6\n",
            "7\n",
            "8\n",
            "9\n",
            "10\n"
          ]
        }
      ]
    },
    {
      "cell_type": "code",
      "source": [
        "# loop infinito --> while True:\n",
        "\n",
        "# ex joguinho\n",
        "\n",
        "while True:\n",
        "\n",
        "  eu = random.randint(0,10)\n",
        "  vc = random.randint(0,10)\n",
        "\n",
        "  print('\\n','Eu tirei o valor: ', eu)\n",
        "  print(' Você tirou o valor: ', vc)\n",
        "\n",
        "  if eu > vc:\n",
        "    print('\\n', 'Ganhei!!!!')\n",
        "    break\n",
        "\n",
        "  else:\n",
        "    print('\\n', 'vc ganhou!!')\n",
        "    break\n"
      ],
      "metadata": {
        "colab": {
          "base_uri": "https://localhost:8080/"
        },
        "id": "wcsJ67OgbirS",
        "outputId": "864812cd-1453-4fbb-afd6-0fa6f3fcd305"
      },
      "execution_count": 76,
      "outputs": [
        {
          "output_type": "stream",
          "name": "stdout",
          "text": [
            "\n",
            " Eu tirei o valor:  1\n",
            " Você tirou o valor:  0\n",
            "\n",
            " Ganhei!!!!\n"
          ]
        }
      ]
    },
    {
      "cell_type": "markdown",
      "source": [
        "# Estrutura de quebra BREAK e CONTINUE\n",
        "O uso de loops no Python automatiza e repete as tarefas de maneira eficiente. Mas, as vezes, pode surgir uma condição em que você deseja sair completamente do loop, pular uma iteração ou ignorar essa condição. Isso pode ser feito por instruções de controle de loop . As instruções de controle de loop alteram a execução de sua sequência normal. Quando a execução sai de um escopo, todos os objetos automáticos que foram criados nesse escopo são destruídos. Python suporta as seguintes instruções de controle."
      ],
      "metadata": {
        "id": "AylNavsrd_Bs"
      }
    },
    {
      "cell_type": "code",
      "source": [
        "# break interrompe o processo\n",
        "lista_f = ['morango', 'abacaxi', 'pera', 'uva', 'limao']\n",
        "\n",
        "for fruta in lista_f:\n",
        "  print(fruta)\n",
        "\n",
        "  if fruta == 'uva':\n",
        "    break"
      ],
      "metadata": {
        "colab": {
          "base_uri": "https://localhost:8080/"
        },
        "id": "bBg5Rv3Fc-ho",
        "outputId": "428f1a90-658a-45f6-ac58-d10bb8a9158f"
      },
      "execution_count": 77,
      "outputs": [
        {
          "output_type": "stream",
          "name": "stdout",
          "text": [
            "morango\n",
            "abacaxi\n",
            "pera\n",
            "uva\n"
          ]
        }
      ]
    },
    {
      "cell_type": "code",
      "source": [
        "# continue --> para quando eu não quero usar um valor no loop\n",
        "lista_f = ['morango', 'abacaxi', 'pera', 'uva', 'limao']\n",
        "\n",
        "for loop in lista_f:\n",
        "  \n",
        "\n",
        "  if loop == 'uva':\n",
        "    continue\n",
        "    print('nao coloca')\n",
        "\n",
        "  print(loop)\n",
        "\n"
      ],
      "metadata": {
        "colab": {
          "base_uri": "https://localhost:8080/"
        },
        "id": "lygtD6rrfHUE",
        "outputId": "dce8d9a8-befb-4e13-bdb6-57d405e4c72b"
      },
      "execution_count": 87,
      "outputs": [
        {
          "output_type": "stream",
          "name": "stdout",
          "text": [
            "morango\n",
            "abacaxi\n",
            "pera\n",
            "limao\n"
          ]
        }
      ]
    },
    {
      "cell_type": "markdown",
      "source": [
        "# Estrutura de FUNÇÕES\n",
        "Uma função é um bloco de código que só é executado quando é chamado.\n",
        "\n",
        "Você pode passar dados, conhecidos como parâmetros, para uma função.\n",
        "\n",
        "Uma função pode retornar dados como resultado.\n"
      ],
      "metadata": {
        "id": "-1lKcygPiqW3"
      }
    },
    {
      "cell_type": "code",
      "source": [
        "def boas_vindas():\n",
        "  print('***** PYTHON *****')  "
      ],
      "metadata": {
        "id": "50ZNMlcLfqzV"
      },
      "execution_count": 88,
      "outputs": []
    },
    {
      "cell_type": "code",
      "source": [
        "boas_vindas()"
      ],
      "metadata": {
        "colab": {
          "base_uri": "https://localhost:8080/"
        },
        "id": "buLrZuqDjj-g",
        "outputId": "fcbe5b6d-f617-400b-de26-6e2c80b489c0"
      },
      "execution_count": 89,
      "outputs": [
        {
          "output_type": "stream",
          "name": "stdout",
          "text": [
            "***** PYTHON *****\n"
          ]
        }
      ]
    },
    {
      "cell_type": "code",
      "source": [
        "# exemplo \n",
        "def funcao (a,b,c):\n",
        "  y = 2*a + b - c\n",
        "  print(y)\n"
      ],
      "metadata": {
        "id": "9Tq26yOxjljF"
      },
      "execution_count": 90,
      "outputs": []
    },
    {
      "cell_type": "code",
      "source": [
        "funcao(10,2,3)"
      ],
      "metadata": {
        "colab": {
          "base_uri": "https://localhost:8080/"
        },
        "id": "AdjA8aJakFam",
        "outputId": "9fbeb54b-7d93-4696-e5ea-6c60ffb21476"
      },
      "execution_count": 92,
      "outputs": [
        {
          "output_type": "stream",
          "name": "stdout",
          "text": [
            "19\n"
          ]
        }
      ]
    },
    {
      "cell_type": "code",
      "source": [
        "import random\n",
        "\n",
        "for loop in range(0,5):\n",
        "\n",
        "  a = random.random()\n",
        "  b = random.random()\n",
        "  c = random.random()\n",
        "\n",
        "  funcao(a,b,c)"
      ],
      "metadata": {
        "colab": {
          "base_uri": "https://localhost:8080/"
        },
        "id": "gPprj6mkkI4y",
        "outputId": "9d903fd5-28d7-4a26-eb12-9a89552507ff"
      },
      "execution_count": 94,
      "outputs": [
        {
          "output_type": "stream",
          "name": "stdout",
          "text": [
            "0.46838996846569714\n",
            "2.07457184754778\n",
            "1.1264529904141605\n",
            "0.13815011231251428\n",
            "0.08951329736432434\n"
          ]
        }
      ]
    },
    {
      "cell_type": "markdown",
      "source": [
        "# Função LAMBDA\n",
        "Uma função lambda é uma pequena função anônima.\n",
        "\n",
        "Uma função lambda pode receber qualquer número de argumentos, mas pode ter apenas uma expressão."
      ],
      "metadata": {
        "id": "Zo-Rr6-5lT6U"
      }
    },
    {
      "cell_type": "code",
      "source": [
        "funcao_soma = lambda valor: valor +10"
      ],
      "metadata": {
        "id": "dLY_gBYZk6X-"
      },
      "execution_count": 98,
      "outputs": []
    },
    {
      "cell_type": "code",
      "source": [
        "funcao_soma(1)"
      ],
      "metadata": {
        "colab": {
          "base_uri": "https://localhost:8080/"
        },
        "id": "XjQoN9W3lz9z",
        "outputId": "a87a6e12-9a3a-48d9-f48c-53cc7ae3cd2e"
      },
      "execution_count": 99,
      "outputs": [
        {
          "output_type": "execute_result",
          "data": {
            "text/plain": [
              "11"
            ]
          },
          "metadata": {},
          "execution_count": 99
        }
      ]
    },
    {
      "cell_type": "code",
      "source": [
        "funcao_soma_02 = lambda valor_1, valor_2: valor_1 + valor_2"
      ],
      "metadata": {
        "id": "AI-ac8ufl11n"
      },
      "execution_count": 100,
      "outputs": []
    },
    {
      "cell_type": "code",
      "source": [
        "funcao_soma_02(1,1)"
      ],
      "metadata": {
        "colab": {
          "base_uri": "https://localhost:8080/"
        },
        "id": "iP8LjKx5mI-A",
        "outputId": "be1d4985-f176-4212-e88c-a83ecd1865cc"
      },
      "execution_count": 101,
      "outputs": [
        {
          "output_type": "execute_result",
          "data": {
            "text/plain": [
              "2"
            ]
          },
          "metadata": {},
          "execution_count": 101
        }
      ]
    },
    {
      "cell_type": "code",
      "source": [
        "exemplo = lambda valor: 'verdadeiro' if valor % 2 == 0 else 'falso'\n",
        "exemplo(4)"
      ],
      "metadata": {
        "colab": {
          "base_uri": "https://localhost:8080/",
          "height": 35
        },
        "id": "sAgdtFikmLZ_",
        "outputId": "eb712c45-71e9-40ec-a6f1-568fa2c93732"
      },
      "execution_count": 104,
      "outputs": [
        {
          "output_type": "execute_result",
          "data": {
            "text/plain": [
              "'verdadeiro'"
            ],
            "application/vnd.google.colaboratory.intrinsic+json": {
              "type": "string"
            }
          },
          "metadata": {},
          "execution_count": 104
        }
      ]
    },
    {
      "cell_type": "markdown",
      "source": [
        "# Estrutura TRY\n",
        "* O **try** permite testar um bloco de código quanto a erros.\n",
        "\n",
        "* O **except** permite que você lide com o erro.\n",
        "\n",
        "* O **else** permite executar código quando não há erro.\n",
        "\n",
        "* O **finally** permite que você execute código, independentemente do resultado dos blocos try e except."
      ],
      "metadata": {
        "id": "0TFGw130nKeC"
      }
    },
    {
      "cell_type": "code",
      "source": [
        "try:\n",
        "  0/0\n",
        "\n",
        "except:\n",
        "  print('não deu certo')\n",
        "\n",
        "finally:\n",
        "  print('vou ser executado da mesma forma')"
      ],
      "metadata": {
        "colab": {
          "base_uri": "https://localhost:8080/"
        },
        "id": "S7zOgaizmyC_",
        "outputId": "8f67cbc3-5217-4898-da03-a4454df36f82"
      },
      "execution_count": 106,
      "outputs": [
        {
          "output_type": "stream",
          "name": "stdout",
          "text": [
            "não deu certo\n",
            "vou ser executado da mesma forma\n"
          ]
        }
      ]
    },
    {
      "cell_type": "markdown",
      "source": [
        "# Estrutura de CLASSES/OBJETOS\n",
        "Python é uma linguagem de programação orientada a objetos.\n",
        "\n",
        "Quase tudo em Python é um objeto, com suas propriedades e métodos.\n",
        "\n",
        "Uma classe é como um construtor de objetos, ou um \"projeto\" para criar objetos."
      ],
      "metadata": {
        "id": "Wmt6vBQHogys"
      }
    },
    {
      "cell_type": "code",
      "source": [
        "class pessoa:\n",
        "\n",
        "  # Metodo construtor:\n",
        "  def __init__(self, nome, idade):\n",
        "    self.nome = nome\n",
        "    self.idade = idade\n",
        "\n",
        "  def boas_vindas(self):\n",
        "    print('Olá, seja bem-vindx: ', self.nome)\n",
        "\n",
        "  def recusado(self):\n",
        "    print('Seu acesso foi recusado!')\n",
        "\n",
        "  # Funcao:\n",
        "  def maior_id(self):\n",
        "    if self.idade >= 18:\n",
        "      print('Usuário maior de idade')\n",
        "      self.boas_vindas()\n",
        "\n",
        "    else:\n",
        "      print('Usuário menor de idade')\n",
        "      self.recusado()"
      ],
      "metadata": {
        "id": "9LP5f0HnoEEJ"
      },
      "execution_count": 108,
      "outputs": []
    },
    {
      "cell_type": "code",
      "source": [
        "dados = pessoa('camila', 29)"
      ],
      "metadata": {
        "id": "GuzYAgRLssKc"
      },
      "execution_count": 109,
      "outputs": []
    },
    {
      "cell_type": "code",
      "source": [
        "dados.maior_id()"
      ],
      "metadata": {
        "colab": {
          "base_uri": "https://localhost:8080/"
        },
        "id": "CL9IFj3_sw3o",
        "outputId": "3d7e1998-94e0-41d1-826f-42c1a55a4a73"
      },
      "execution_count": 110,
      "outputs": [
        {
          "output_type": "stream",
          "name": "stdout",
          "text": [
            "Usuário maior de idade\n",
            "Olá, seja bem-vindx:  camila\n"
          ]
        }
      ]
    },
    {
      "cell_type": "markdown",
      "source": [
        "# Módulos/Pacotes\n",
        "Considere um módulo como sendo o mesmo que uma biblioteca de código.\n",
        "\n",
        "Para instalar um pacote utilize o 'pip install'"
      ],
      "metadata": {
        "id": "nki1Sd1mu7um"
      }
    },
    {
      "cell_type": "code",
      "source": [
        "import time"
      ],
      "metadata": {
        "id": "yQLKkL9as271"
      },
      "execution_count": 111,
      "outputs": []
    },
    {
      "cell_type": "code",
      "source": [
        "pip install pandas"
      ],
      "metadata": {
        "colab": {
          "base_uri": "https://localhost:8080/"
        },
        "id": "Ew9L9ouHvXZI",
        "outputId": "976dbccb-4a53-4501-8007-4f300a75969b"
      },
      "execution_count": 112,
      "outputs": [
        {
          "output_type": "stream",
          "name": "stdout",
          "text": [
            "Requirement already satisfied: pandas in /usr/local/lib/python3.7/dist-packages (1.3.5)\n",
            "Requirement already satisfied: numpy>=1.17.3 in /usr/local/lib/python3.7/dist-packages (from pandas) (1.21.6)\n",
            "Requirement already satisfied: pytz>=2017.3 in /usr/local/lib/python3.7/dist-packages (from pandas) (2022.1)\n",
            "Requirement already satisfied: python-dateutil>=2.7.3 in /usr/local/lib/python3.7/dist-packages (from pandas) (2.8.2)\n",
            "Requirement already satisfied: six>=1.5 in /usr/local/lib/python3.7/dist-packages (from python-dateutil>=2.7.3->pandas) (1.15.0)\n"
          ]
        }
      ]
    },
    {
      "cell_type": "markdown",
      "source": [
        "# Print formatado\n",
        "Existe diversas formas de utilizar prints no python"
      ],
      "metadata": {
        "id": "RNdK7Mz9vhMS"
      }
    },
    {
      "cell_type": "code",
      "source": [
        "print('Soma de 2 + 2 é:', 2 + 2 )"
      ],
      "metadata": {
        "colab": {
          "base_uri": "https://localhost:8080/"
        },
        "id": "4Rs8d65TvY3U",
        "outputId": "8d0c9ad9-95bc-4fdc-8a04-67b4a8127898"
      },
      "execution_count": 113,
      "outputs": [
        {
          "output_type": "stream",
          "name": "stdout",
          "text": [
            "Soma de 2 + 2 é: 4\n"
          ]
        }
      ]
    },
    {
      "cell_type": "code",
      "source": [
        "print( f'Soma de 2 + 2 é: {2 + 2}' )"
      ],
      "metadata": {
        "colab": {
          "base_uri": "https://localhost:8080/"
        },
        "id": "KZ7eu53Fv_dw",
        "outputId": "aa993a19-b950-49b8-a55c-c27be8b5c890"
      },
      "execution_count": 114,
      "outputs": [
        {
          "output_type": "stream",
          "name": "stdout",
          "text": [
            "Soma de 2 + 2 é: 4\n"
          ]
        }
      ]
    },
    {
      "cell_type": "code",
      "source": [
        "print( f'Soma de 2 + 2 é: {round(1.5 + 1.67, 2)}' )"
      ],
      "metadata": {
        "colab": {
          "base_uri": "https://localhost:8080/"
        },
        "id": "9ru5qeN4wUi3",
        "outputId": "56037308-2f3d-4a7e-fbfc-d97f4953be4d"
      },
      "execution_count": 116,
      "outputs": [
        {
          "output_type": "stream",
          "name": "stdout",
          "text": [
            "Soma de 2 + 2 é: 3.17\n"
          ]
        }
      ]
    },
    {
      "cell_type": "code",
      "source": [
        "print('Soma de 2 + 2 é: {}'.format(2+2) )"
      ],
      "metadata": {
        "colab": {
          "base_uri": "https://localhost:8080/"
        },
        "id": "8vXkN4g4wIi3",
        "outputId": "651c73e1-d07c-490b-ac4b-df59db9e5a81"
      },
      "execution_count": 115,
      "outputs": [
        {
          "output_type": "stream",
          "name": "stdout",
          "text": [
            "Soma de 2 + 2 é: 4\n"
          ]
        }
      ]
    },
    {
      "cell_type": "code",
      "source": [
        ""
      ],
      "metadata": {
        "id": "Ny4PFqnuwMYj"
      },
      "execution_count": null,
      "outputs": []
    }
  ]
}