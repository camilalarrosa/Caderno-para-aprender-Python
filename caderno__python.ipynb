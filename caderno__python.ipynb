{
  "nbformat": 4,
  "nbformat_minor": 0,
  "metadata": {
    "colab": {
      "name": "caderno_ python",
      "provenance": [],
      "toc_visible": true,
      "authorship_tag": "ABX9TyNye99z1ZYWig3oVYYWfKsD",
      "include_colab_link": true
    },
    "kernelspec": {
      "name": "python3",
      "display_name": "Python 3"
    },
    "language_info": {
      "name": "python"
    }
  },
  "cells": [
    {
      "cell_type": "markdown",
      "metadata": {
        "id": "view-in-github",
        "colab_type": "text"
      },
      "source": [
        "<a href=\"https://colab.research.google.com/github/camilalarrosa/Caderno-para-aprender-Python/blob/main/caderno__python.ipynb\" target=\"_parent\"><img src=\"https://colab.research.google.com/assets/colab-badge.svg\" alt=\"Open In Colab\"/></a>"
      ]
    },
    {
      "cell_type": "code",
      "execution_count": 1,
      "metadata": {
        "colab": {
          "base_uri": "https://localhost:8080/"
        },
        "id": "6HglTPm2a4OU",
        "outputId": "a00babf9-96eb-4638-d620-6020961e2434"
      },
      "outputs": [
        {
          "output_type": "stream",
          "name": "stdout",
          "text": [
            "Meu caderno de estudos da Udemy\n"
          ]
        }
      ],
      "source": [
        "print('Meu caderno de estudos da Udemy')"
      ]
    },
    {
      "cell_type": "code",
      "source": [
        "'''\n",
        "Sempre existe algo novo para aprender\n",
        "'''"
      ],
      "metadata": {
        "colab": {
          "base_uri": "https://localhost:8080/",
          "height": 35
        },
        "id": "-GJOdKTicrat",
        "outputId": "3f0a2c6c-fb48-4990-dc88-4c9148c73246"
      },
      "execution_count": 2,
      "outputs": [
        {
          "output_type": "execute_result",
          "data": {
            "text/plain": [
              "'\\nSempre existe algo novo para aprender\\n'"
            ],
            "application/vnd.google.colaboratory.intrinsic+json": {
              "type": "string"
            }
          },
          "metadata": {},
          "execution_count": 2
        }
      ]
    },
    {
      "cell_type": "code",
      "source": [
        "print('mesmo \\nno mais basico')"
      ],
      "metadata": {
        "colab": {
          "base_uri": "https://localhost:8080/"
        },
        "id": "lDT8gOd7dn7k",
        "outputId": "8865b669-57bf-4821-cb47-8661d0ade383"
      },
      "execution_count": 3,
      "outputs": [
        {
          "output_type": "stream",
          "name": "stdout",
          "text": [
            "mesmo \n",
            "no mais basico\n"
          ]
        }
      ]
    },
    {
      "cell_type": "markdown",
      "source": [
        "# Operadores matemáticos"
      ],
      "metadata": {
        "id": "apZ3gZcWeEZz"
      }
    },
    {
      "cell_type": "code",
      "source": [
        "#Soma\n",
        "2 +2"
      ],
      "metadata": {
        "colab": {
          "base_uri": "https://localhost:8080/"
        },
        "id": "E5n2z1vLeN0j",
        "outputId": "83ea1a69-054e-424a-e904-305160eb2990"
      },
      "execution_count": 4,
      "outputs": [
        {
          "output_type": "execute_result",
          "data": {
            "text/plain": [
              "4"
            ]
          },
          "metadata": {},
          "execution_count": 4
        }
      ]
    },
    {
      "cell_type": "code",
      "source": [
        "#Subtracao\n",
        "2 - 2"
      ],
      "metadata": {
        "colab": {
          "base_uri": "https://localhost:8080/"
        },
        "id": "d-q9KlGYeOGB",
        "outputId": "9b861054-f606-4c92-cdf3-de4b718204c5"
      },
      "execution_count": 5,
      "outputs": [
        {
          "output_type": "execute_result",
          "data": {
            "text/plain": [
              "0"
            ]
          },
          "metadata": {},
          "execution_count": 5
        }
      ]
    },
    {
      "cell_type": "code",
      "source": [
        "#Multiplicacao\n",
        "4 * 4"
      ],
      "metadata": {
        "colab": {
          "base_uri": "https://localhost:8080/"
        },
        "id": "bBxW8PV3eOIy",
        "outputId": "6ea9c666-d15a-423d-d910-e3ef579165bd"
      },
      "execution_count": 6,
      "outputs": [
        {
          "output_type": "execute_result",
          "data": {
            "text/plain": [
              "16"
            ]
          },
          "metadata": {},
          "execution_count": 6
        }
      ]
    },
    {
      "cell_type": "code",
      "source": [
        "#Divisao\n",
        "4 / 2"
      ],
      "metadata": {
        "colab": {
          "base_uri": "https://localhost:8080/"
        },
        "id": "9X40oNHFee9o",
        "outputId": "03cd368d-8730-49ab-9dc5-8cad69ebfdca"
      },
      "execution_count": 7,
      "outputs": [
        {
          "output_type": "execute_result",
          "data": {
            "text/plain": [
              "2.0"
            ]
          },
          "metadata": {},
          "execution_count": 7
        }
      ]
    },
    {
      "cell_type": "code",
      "source": [
        "#exponenciacao\n",
        "2 ** 3"
      ],
      "metadata": {
        "colab": {
          "base_uri": "https://localhost:8080/"
        },
        "id": "r9nvU7queitZ",
        "outputId": "74eb42f3-7310-4581-9a36-b1177ffaf892"
      },
      "execution_count": 8,
      "outputs": [
        {
          "output_type": "execute_result",
          "data": {
            "text/plain": [
              "8"
            ]
          },
          "metadata": {},
          "execution_count": 8
        }
      ]
    },
    {
      "cell_type": "code",
      "source": [
        "#Resto da divisão\n",
        "10 % 3"
      ],
      "metadata": {
        "colab": {
          "base_uri": "https://localhost:8080/"
        },
        "id": "f1Hm5K1LemzL",
        "outputId": "2cd26f93-facb-494c-9e74-0c4a14702f52"
      },
      "execution_count": 9,
      "outputs": [
        {
          "output_type": "execute_result",
          "data": {
            "text/plain": [
              "1"
            ]
          },
          "metadata": {},
          "execution_count": 9
        }
      ]
    },
    {
      "cell_type": "code",
      "source": [
        "#Divisao de chao\n",
        "10 // 3"
      ],
      "metadata": {
        "colab": {
          "base_uri": "https://localhost:8080/"
        },
        "id": "PvB7Zl4PfDDL",
        "outputId": "959c13f7-57d6-4d6b-d22c-506653cd811d"
      },
      "execution_count": 10,
      "outputs": [
        {
          "output_type": "execute_result",
          "data": {
            "text/plain": [
              "3"
            ]
          },
          "metadata": {},
          "execution_count": 10
        }
      ]
    },
    {
      "cell_type": "markdown",
      "source": [
        "# Variáveis \n",
        " são contêineres para armazenar valores de dados; \n",
        " \n",
        " uma variável é criada no momento que você atribui um valor a ela."
      ],
      "metadata": {
        "id": "4qLLpyE4fomm"
      }
    },
    {
      "cell_type": "code",
      "source": [
        "nome = 'camila'\n",
        "print(nome)"
      ],
      "metadata": {
        "colab": {
          "base_uri": "https://localhost:8080/"
        },
        "id": "kyaLSDEJgVZW",
        "outputId": "600ee009-1930-49a6-ddbb-9761ee0f2bcb"
      },
      "execution_count": 11,
      "outputs": [
        {
          "output_type": "stream",
          "name": "stdout",
          "text": [
            "camila\n"
          ]
        }
      ]
    },
    {
      "cell_type": "code",
      "source": [
        "# obs: se eu sobreescrever uma variavel, ela fica com o valor da ultima inscricao\n",
        "nome = 'camila larrosa' \n",
        "print(nome)"
      ],
      "metadata": {
        "colab": {
          "base_uri": "https://localhost:8080/"
        },
        "id": "tmNUEjg0gVv4",
        "outputId": "d2b93d53-42e2-48ed-d573-2fa627b20291"
      },
      "execution_count": 13,
      "outputs": [
        {
          "output_type": "stream",
          "name": "stdout",
          "text": [
            "camila larrosa\n"
          ]
        }
      ]
    },
    {
      "cell_type": "code",
      "source": [
        "# variavel texto\n",
        "var_texto_01 = 'teste'\n",
        "var_texto_02 = str('teste02')\n",
        "print(var_texto_01, var_texto_02)"
      ],
      "metadata": {
        "colab": {
          "base_uri": "https://localhost:8080/"
        },
        "id": "LrUIoW4rgWDC",
        "outputId": "dff75165-05c3-42c3-ff85-fbe8a01b9359"
      },
      "execution_count": 14,
      "outputs": [
        {
          "output_type": "stream",
          "name": "stdout",
          "text": [
            "teste teste02\n"
          ]
        }
      ]
    },
    {
      "cell_type": "code",
      "source": [
        "# variaveis numericas\n",
        "var_inteiro_01 = 100\n",
        "var_inteiro_02 = int(300)\n",
        "# variaveis flutuantes\n",
        "var_flutuante_01 = 11.1\n",
        "var_flutuante_02 = float(3.5)\n",
        "print(var_inteiro_01, var_inteiro_02, var_flutuante_01, var_flutuante_02)"
      ],
      "metadata": {
        "colab": {
          "base_uri": "https://localhost:8080/"
        },
        "id": "Y_ZKgUSOhU5I",
        "outputId": "dee295dd-08da-4c7d-bf3e-c351db5cc340"
      },
      "execution_count": 15,
      "outputs": [
        {
          "output_type": "stream",
          "name": "stdout",
          "text": [
            "100 300 11.1 3.5\n"
          ]
        }
      ]
    },
    {
      "cell_type": "code",
      "source": [
        "# variaveis booleanas\n",
        "var_booleano_01 = True\n",
        "var_booleano_02 = False\n",
        "print(var_booleano_01, var_booleano_02)"
      ],
      "metadata": {
        "colab": {
          "base_uri": "https://localhost:8080/"
        },
        "id": "JchcYHtHiDaJ",
        "outputId": "346f015f-3dc9-4fc3-e002-7b310aea8ecf"
      },
      "execution_count": 16,
      "outputs": [
        {
          "output_type": "stream",
          "name": "stdout",
          "text": [
            "True False\n"
          ]
        }
      ]
    },
    {
      "cell_type": "markdown",
      "source": [
        "# Estruturas de dados:\n",
        "\n",
        "\n",
        "1.   Listas: criadas usando [ ]\n",
        "2.   Tuples: criadas usando ( )\n",
        "3.   Dicionarios: usando { }\n",
        "\n",
        "*   Esses tipos de dados podem receber qualquer tipo de informacao, inclusive operacoes aritmeticas;\n",
        "\n",
        "*   Sequência de valores.\n",
        "\n",
        "\n",
        "\n",
        "\n",
        "\n",
        "\n",
        "\n",
        "\n",
        "\n"
      ],
      "metadata": {
        "id": "kDDfle2Oih_p"
      }
    },
    {
      "cell_type": "code",
      "source": [
        "# Listas\n",
        "list_01 = [1,2,3,4]\n",
        "list_02 = ['oi', 'exemplo', 1, 100, True]\n",
        "list_03 = ['lista', 'dentro', 'lista', [1,2,3]]\n",
        "\n",
        "print(list_01, list_02, list_03)\n"
      ],
      "metadata": {
        "colab": {
          "base_uri": "https://localhost:8080/"
        },
        "id": "3mXJHlLll87a",
        "outputId": "4b584d33-89d4-48d9-d742-2f62a4f46932"
      },
      "execution_count": 17,
      "outputs": [
        {
          "output_type": "stream",
          "name": "stdout",
          "text": [
            "[1, 2, 3, 4] ['oi', 'exemplo', 1, 100, True] ['lista', 'dentro', 'lista', [1, 2, 3]]\n"
          ]
        }
      ]
    },
    {
      "cell_type": "code",
      "source": [
        "# Tuples (SAO IMUTAVEIS)\n",
        "tuple_01 = (1,2,3,4)\n",
        "tuple_02 = ('oi', False, 3.5, [1,2,3])\n",
        "print(tuple_01, tuple_02)"
      ],
      "metadata": {
        "colab": {
          "base_uri": "https://localhost:8080/"
        },
        "id": "ZlbnqQnymVzR",
        "outputId": "c56800af-8d8f-47f6-aac1-5ff7a26735cc"
      },
      "execution_count": 18,
      "outputs": [
        {
          "output_type": "stream",
          "name": "stdout",
          "text": [
            "(1, 2, 3, 4) ('oi', False, 3.5, [1, 2, 3])\n"
          ]
        }
      ]
    },
    {
      "cell_type": "code",
      "source": [
        "# Dicionarios (organizados por chave e valor)\n",
        "dicionario = {\n",
        "    'index' : 'valor',\n",
        "    'id' : 1,\n",
        "    'id' : 2,\n",
        "    'nome' : 'camila',\n",
        "    'color' : 'red',\n",
        "    'lista' : list_01,\n",
        "    'tuple' : tuple_02\n",
        "    }\n",
        "dicionario\n"
      ],
      "metadata": {
        "colab": {
          "base_uri": "https://localhost:8080/"
        },
        "id": "blpCPK6Zm7Pm",
        "outputId": "c3938007-4555-4531-f3f3-7021948b06e5"
      },
      "execution_count": 26,
      "outputs": [
        {
          "output_type": "execute_result",
          "data": {
            "text/plain": [
              "{'color': 'red',\n",
              " 'id': 2,\n",
              " 'index': 'valor',\n",
              " 'lista': [1, 2, 3, 4],\n",
              " 'nome': 'camila',\n",
              " 'tuple': ('oi', False, 3.5, [1, 2, 3])}"
            ]
          },
          "metadata": {},
          "execution_count": 26
        }
      ]
    },
    {
      "cell_type": "markdown",
      "source": [
        "# Nomeacao de variaveis\n",
        "Podemos nomear variaveis e tipos de dados de diversas formas:\n",
        "\n",
        "\n",
        "1.   Declarar as variaveis em uma unica linha de comando;\n",
        "2.   Atribuir um valor a diversas variaveis;\n",
        "3.   Declarar usando uma lista;\n",
        "4.   Combinar variaveis;\n",
        "5.   Operar com operadores matematicos;\n",
        "6.   Outras.\n",
        "\n"
      ],
      "metadata": {
        "id": "UZCH0GgIpA1e"
      }
    },
    {
      "cell_type": "code",
      "source": [
        "# varias com valores diferentes\n",
        "banana, laranja, morango = 1, 2, 3\n",
        "print(banana, laranja, morango)"
      ],
      "metadata": {
        "colab": {
          "base_uri": "https://localhost:8080/"
        },
        "id": "vwr0RtNHpuWT",
        "outputId": "c45017cf-8abe-4908-b1ee-2739eedcddab"
      },
      "execution_count": 27,
      "outputs": [
        {
          "output_type": "stream",
          "name": "stdout",
          "text": [
            "1 2 3\n"
          ]
        }
      ]
    },
    {
      "cell_type": "code",
      "source": [
        "# varias com o mesmo valor\n",
        "rosa = azul = amarelo = 'cores'\n",
        "print( rosa , azul , amarelo)"
      ],
      "metadata": {
        "colab": {
          "base_uri": "https://localhost:8080/"
        },
        "id": "0ebnmPuppuiO",
        "outputId": "5e751099-9c14-4385-ad83-819eff4ecc71"
      },
      "execution_count": 28,
      "outputs": [
        {
          "output_type": "stream",
          "name": "stdout",
          "text": [
            "cores cores cores\n"
          ]
        }
      ]
    },
    {
      "cell_type": "code",
      "source": [
        "# nomear com lista\n",
        "lista_carros = ['renault', 'audi', 'tesla']\n",
        "marca_01, marca_02, marca_03 = lista_carros\n",
        "print(marca_01, marca_02, marca_03 )"
      ],
      "metadata": {
        "colab": {
          "base_uri": "https://localhost:8080/"
        },
        "id": "Wde3X3prqb5q",
        "outputId": "9c516cc2-7645-4db7-fc23-f824beaed335"
      },
      "execution_count": 29,
      "outputs": [
        {
          "output_type": "stream",
          "name": "stdout",
          "text": [
            "renault audi tesla\n"
          ]
        }
      ]
    },
    {
      "cell_type": "code",
      "source": [
        "# combinar variaveis\n",
        "nome = 'camila'\n",
        "sobrenome = 'larrosa'\n",
        "\n",
        "nome_completo = nome + ' ' + sobrenome\n",
        "\n",
        "print( nome_completo)"
      ],
      "metadata": {
        "colab": {
          "base_uri": "https://localhost:8080/"
        },
        "id": "J1BU5SgZqoWA",
        "outputId": "b2bcec71-5a3e-4941-8b3b-970998cfb8cb"
      },
      "execution_count": 30,
      "outputs": [
        {
          "output_type": "stream",
          "name": "stdout",
          "text": [
            "camila larrosa\n"
          ]
        }
      ]
    },
    {
      "cell_type": "code",
      "source": [
        "# obs: variaveis devem ter a mesma prop para combinarem\n",
        "nome = 'camila'\n",
        "idade = '29'\n",
        "\n",
        "print(nome + ', ' + idade + ' ' + 'anos')\n",
        "\n",
        "# outro exemplo\n",
        "investimento = 1000\n",
        "taxa_juros = float(0.3)\n",
        "valor_ganho = (investimento * taxa_juros) + investimento\n",
        "\n",
        "print(valor_ganho)"
      ],
      "metadata": {
        "colab": {
          "base_uri": "https://localhost:8080/"
        },
        "id": "VyoW_mRlqogq",
        "outputId": "c3a9bba9-87ab-4316-874a-e8f0184bb6c7"
      },
      "execution_count": 39,
      "outputs": [
        {
          "output_type": "stream",
          "name": "stdout",
          "text": [
            "camila, 29 anos\n",
            "1300.0\n"
          ]
        }
      ]
    },
    {
      "cell_type": "markdown",
      "source": [
        "# Tipo de informacao\n",
        "variaveis podem armazenar dados de diferentes tipos e, diferentes tipos podem fazer coisas diferentes. O Python tem os seguintes tipos de dados integrados por padrao, nestas categorias:\n",
        "\n",
        "\n",
        "1.   Text Type: str\n",
        "2.   Numeric Types: int, float, complex\n",
        "3.   Sequence Types: list, tuple, range\n",
        "4.   Mapping Type: dict\n",
        "5.   Set Types: set, frozenset\n",
        "6.   Boolean Type: bool\n",
        "7.   Binary Types: bytes, bytearray, memoryview\n",
        "\n",
        "\n"
      ],
      "metadata": {
        "id": "i8-4MTcT6xk_"
      }
    },
    {
      "cell_type": "code",
      "source": [
        "string = str('testando')\n",
        "inteiro = int(10)\n",
        "flutuante = float(1.5)\n",
        "complexo = complex( 1j )\n",
        "lista = list(('azul', 'amarelo'))\n",
        "tupla = tuple(('a', 'b'))\n",
        "range_ = range(4)\n",
        "dicionario = dict(nome='camila', idade=29)\n",
        "set_ = set(('a', 'b', 'c'))\n",
        "frozenset_ = frozenset(('a', 'b', 'c'))\n",
        "booleano = bool(3)\n",
        "bytes_ = bytes(3)\n",
        "bytearray_ = bytearray(3)\n",
        "memoryview_ = memoryview(bytes(3))\n",
        "\n",
        "from datetime import datetime\n",
        "data = datetime.today().date()"
      ],
      "metadata": {
        "id": "EYymcU0C7zSQ"
      },
      "execution_count": 44,
      "outputs": []
    },
    {
      "cell_type": "code",
      "source": [
        "type (data)"
      ],
      "metadata": {
        "colab": {
          "base_uri": "https://localhost:8080/"
        },
        "id": "mSa_eYhl7zeA",
        "outputId": "355cd662-6a1e-4cf4-e58c-d87b91e084ed"
      },
      "execution_count": 48,
      "outputs": [
        {
          "output_type": "execute_result",
          "data": {
            "text/plain": [
              "datetime.date"
            ]
          },
          "metadata": {},
          "execution_count": 48
        }
      ]
    },
    {
      "cell_type": "code",
      "source": [
        "type(complexo)"
      ],
      "metadata": {
        "colab": {
          "base_uri": "https://localhost:8080/"
        },
        "id": "EIPafE8R7zgy",
        "outputId": "57ce19e7-6e78-42f9-efd1-020cc47fa821"
      },
      "execution_count": 49,
      "outputs": [
        {
          "output_type": "execute_result",
          "data": {
            "text/plain": [
              "complex"
            ]
          },
          "metadata": {},
          "execution_count": 49
        }
      ]
    },
    {
      "cell_type": "markdown",
      "source": [
        "# Comando ROUND\n",
        "Quando trabalhamos com nros flutuantes, podemos diminuir seu valor usando um comando nativo do Python\n",
        "\n",
        "round(valor, nro de casas)"
      ],
      "metadata": {
        "id": "8_wqO5no-2y2"
      }
    },
    {
      "cell_type": "code",
      "source": [
        "pi = 3.14159265359\n",
        "print(pi)"
      ],
      "metadata": {
        "colab": {
          "base_uri": "https://localhost:8080/"
        },
        "id": "9-_9RiYD-l4v",
        "outputId": "0a2f98e8-130a-426c-b83d-3b50229939a4"
      },
      "execution_count": 50,
      "outputs": [
        {
          "output_type": "stream",
          "name": "stdout",
          "text": [
            "3.14159265359\n"
          ]
        }
      ]
    },
    {
      "cell_type": "code",
      "source": [
        "round(pi,2)"
      ],
      "metadata": {
        "colab": {
          "base_uri": "https://localhost:8080/"
        },
        "id": "x_mX6pW1_Hmt",
        "outputId": "5c17da4e-4ca5-43ff-c9d5-b5da8445dd0b"
      },
      "execution_count": 51,
      "outputs": [
        {
          "output_type": "execute_result",
          "data": {
            "text/plain": [
              "3.14"
            ]
          },
          "metadata": {},
          "execution_count": 51
        }
      ]
    },
    {
      "cell_type": "markdown",
      "source": [
        "# Comando LEN\n",
        "A funcao len() retorna a quantidade total de elementos de qualquer lista em Python (mais uma funcao built-in)"
      ],
      "metadata": {
        "id": "_9imzdYR0Sxq"
      }
    },
    {
      "cell_type": "code",
      "source": [
        "lista = [1,2,3,4,5,6,7,8,9,10]\n",
        "dici = {'name':'camila', 'age':29 }\n",
        "tuple_ = (1,2,3)\n",
        "string_ = 'essa eu quero ver'"
      ],
      "metadata": {
        "id": "DSBT4a-8_eO8"
      },
      "execution_count": 4,
      "outputs": []
    },
    {
      "cell_type": "markdown",
      "source": [
        ""
      ],
      "metadata": {
        "id": "zQkH8WLs0sFy"
      }
    },
    {
      "cell_type": "code",
      "source": [
        "len(lista)"
      ],
      "metadata": {
        "colab": {
          "base_uri": "https://localhost:8080/"
        },
        "id": "WLbfiWwl2E_G",
        "outputId": "a0322cb2-95b8-43a1-9ea1-1c8b689eb111"
      },
      "execution_count": 5,
      "outputs": [
        {
          "output_type": "execute_result",
          "data": {
            "text/plain": [
              "10"
            ]
          },
          "metadata": {},
          "execution_count": 5
        }
      ]
    },
    {
      "cell_type": "code",
      "source": [
        "len(dici)"
      ],
      "metadata": {
        "colab": {
          "base_uri": "https://localhost:8080/"
        },
        "id": "iTd88UZ52FK-",
        "outputId": "86138f8b-e722-4b09-d9a8-035e064dde92"
      },
      "execution_count": 6,
      "outputs": [
        {
          "output_type": "execute_result",
          "data": {
            "text/plain": [
              "2"
            ]
          },
          "metadata": {},
          "execution_count": 6
        }
      ]
    },
    {
      "cell_type": "code",
      "source": [
        "len(tuple_)"
      ],
      "metadata": {
        "colab": {
          "base_uri": "https://localhost:8080/"
        },
        "id": "lJtoMJbM2FXg",
        "outputId": "d6736faf-cb77-4f5e-f785-20a644f48709"
      },
      "execution_count": 7,
      "outputs": [
        {
          "output_type": "execute_result",
          "data": {
            "text/plain": [
              "3"
            ]
          },
          "metadata": {},
          "execution_count": 7
        }
      ]
    },
    {
      "cell_type": "code",
      "source": [
        "len(string_)"
      ],
      "metadata": {
        "colab": {
          "base_uri": "https://localhost:8080/"
        },
        "id": "mjlkNnTQ2LNS",
        "outputId": "a8cb4207-7718-48dd-983d-82cb61a42a1a"
      },
      "execution_count": 8,
      "outputs": [
        {
          "output_type": "execute_result",
          "data": {
            "text/plain": [
              "17"
            ]
          },
          "metadata": {},
          "execution_count": 8
        }
      ]
    },
    {
      "cell_type": "markdown",
      "source": [
        "# Fatiamento de string\n",
        "\n",
        "\n",
        "*   Strings sao listas em bytes representando caracteres;\n",
        "*   Podemos acessar suas posicoes usando [ ]\n",
        "*   string [posicao inicial: posicao final]\n",
        "\n"
      ],
      "metadata": {
        "id": "Qyituafj2YA_"
      }
    },
    {
      "cell_type": "code",
      "source": [
        "string_ex = 'aprendendo python online'\n",
        "\n",
        "print( type(string_ex))\n",
        "print( len(string_ex))"
      ],
      "metadata": {
        "colab": {
          "base_uri": "https://localhost:8080/"
        },
        "id": "xs8ZcKSW2NQ-",
        "outputId": "69de80fe-e134-43c6-bb28-514155bc32a5"
      },
      "execution_count": 9,
      "outputs": [
        {
          "output_type": "stream",
          "name": "stdout",
          "text": [
            "<class 'str'>\n",
            "24\n"
          ]
        }
      ]
    },
    {
      "cell_type": "code",
      "source": [
        "print(string_ex[1])\n",
        "print(string_ex[2])\n",
        "print(string_ex[-1])\n",
        "print(string_ex[0:10])\n",
        "print(string_ex[-6:])\n",
        "print(string_ex[0:24])"
      ],
      "metadata": {
        "colab": {
          "base_uri": "https://localhost:8080/"
        },
        "id": "06Va53jM3K8d",
        "outputId": "00e46056-ff3b-4e78-be41-8e5d99935fdd"
      },
      "execution_count": 12,
      "outputs": [
        {
          "output_type": "stream",
          "name": "stdout",
          "text": [
            "p\n",
            "r\n",
            "e\n",
            "aprendendo\n",
            "online\n",
            "aprendendo python online\n"
          ]
        }
      ]
    },
    {
      "cell_type": "code",
      "source": [
        "#exemplo pratico - meu dado veio \"poluido\"\n",
        "cpf = 'cpf: 012345678'\n",
        "cpf[-9:]"
      ],
      "metadata": {
        "colab": {
          "base_uri": "https://localhost:8080/",
          "height": 35
        },
        "id": "S5r3HD_33joB",
        "outputId": "6d7e4351-6073-4912-8004-020b2fa91210"
      },
      "execution_count": 14,
      "outputs": [
        {
          "output_type": "execute_result",
          "data": {
            "text/plain": [
              "'012345678'"
            ],
            "application/vnd.google.colaboratory.intrinsic+json": {
              "type": "string"
            }
          },
          "metadata": {},
          "execution_count": 14
        }
      ]
    },
    {
      "cell_type": "markdown",
      "source": [
        "# Manipulacao de strings\n",
        "\n",
        "\n",
        "1.   replace()\n",
        "2.   startswith()\n",
        "3.   endswith()\n",
        "4.   count()\n",
        "5.   capitalize()\n",
        "6.   isdigit()\n",
        "7.   isalnum()\n",
        "8.   upper()\n",
        "9.   lower()\n",
        "10.  find()\n",
        "11.  strip()\n",
        "12.  split()\n",
        "\n"
      ],
      "metadata": {
        "id": "4_5pbnf_HRO0"
      }
    },
    {
      "cell_type": "code",
      "source": [
        "string = 'olá mundão!'\n",
        "print(string)\n",
        "print(len(string))\n",
        "print(type(string))"
      ],
      "metadata": {
        "colab": {
          "base_uri": "https://localhost:8080/"
        },
        "id": "_HQJuEuw4M-w",
        "outputId": "bc199355-457c-488b-ef4d-3962f523994c"
      },
      "execution_count": 16,
      "outputs": [
        {
          "output_type": "stream",
          "name": "stdout",
          "text": [
            "olá mundão!\n",
            "11\n",
            "<class 'str'>\n"
          ]
        }
      ]
    },
    {
      "cell_type": "code",
      "source": [
        "# replace --> substituir (valor antigo, valor novo)\n",
        "string.replace('mundão', 'mundo')\n"
      ],
      "metadata": {
        "colab": {
          "base_uri": "https://localhost:8080/",
          "height": 35
        },
        "id": "q94IlJh_IUUM",
        "outputId": "60e1a24b-37b4-4255-c979-4d95ae86f907"
      },
      "execution_count": 19,
      "outputs": [
        {
          "output_type": "execute_result",
          "data": {
            "text/plain": [
              "'olá mundo!'"
            ],
            "application/vnd.google.colaboratory.intrinsic+json": {
              "type": "string"
            }
          },
          "metadata": {},
          "execution_count": 19
        }
      ]
    },
    {
      "cell_type": "code",
      "source": [
        "cpf = 'cpf: 012345678'\n",
        "\n",
        "int(cpf.replace('cpf: ',''))"
      ],
      "metadata": {
        "colab": {
          "base_uri": "https://localhost:8080/"
        },
        "id": "d5HQy_eBIvl4",
        "outputId": "41b67b9f-5e18-45bd-9421-4b75da183dc6"
      },
      "execution_count": 20,
      "outputs": [
        {
          "output_type": "execute_result",
          "data": {
            "text/plain": [
              "12345678"
            ]
          },
          "metadata": {},
          "execution_count": 20
        }
      ]
    },
    {
      "cell_type": "code",
      "source": [
        "# startswith --> verificar o comeco da string\n",
        "string.startswith('bom dia')"
      ],
      "metadata": {
        "colab": {
          "base_uri": "https://localhost:8080/"
        },
        "id": "OG1fah4kJEa7",
        "outputId": "31e40316-1459-47e9-97c6-293a14bcc2fd"
      },
      "execution_count": 21,
      "outputs": [
        {
          "output_type": "execute_result",
          "data": {
            "text/plain": [
              "False"
            ]
          },
          "metadata": {},
          "execution_count": 21
        }
      ]
    },
    {
      "cell_type": "code",
      "source": [
        "# endswith --> verificar o fim da string\n",
        "string.endswith('!')"
      ],
      "metadata": {
        "colab": {
          "base_uri": "https://localhost:8080/"
        },
        "id": "pZkC94X2JcXc",
        "outputId": "e1f0b969-2a3e-4b8b-e1de-75e92088762d"
      },
      "execution_count": 23,
      "outputs": [
        {
          "output_type": "execute_result",
          "data": {
            "text/plain": [
              "True"
            ]
          },
          "metadata": {},
          "execution_count": 23
        }
      ]
    },
    {
      "cell_type": "code",
      "source": [
        "# count --> contar palavras/letras\n",
        "string.count('o')"
      ],
      "metadata": {
        "colab": {
          "base_uri": "https://localhost:8080/"
        },
        "id": "mT8cj8sFJv6Y",
        "outputId": "7b54c204-bb56-4cb3-a9e9-1862788e019d"
      },
      "execution_count": 25,
      "outputs": [
        {
          "output_type": "execute_result",
          "data": {
            "text/plain": [
              "2"
            ]
          },
          "metadata": {},
          "execution_count": 25
        }
      ]
    },
    {
      "cell_type": "code",
      "source": [
        "# capitalize --> transforma a primeira letra em maiuscula\n",
        "Nome = 'douglas'"
      ],
      "metadata": {
        "id": "iIKBoqNyKIPj"
      },
      "execution_count": 26,
      "outputs": []
    },
    {
      "cell_type": "code",
      "source": [
        "Nome.capitalize()"
      ],
      "metadata": {
        "colab": {
          "base_uri": "https://localhost:8080/",
          "height": 35
        },
        "id": "k7pAcvPmKiNu",
        "outputId": "35bbaa1a-ca8e-4004-d1c8-c09d6734ab16"
      },
      "execution_count": 27,
      "outputs": [
        {
          "output_type": "execute_result",
          "data": {
            "text/plain": [
              "'Douglas'"
            ],
            "application/vnd.google.colaboratory.intrinsic+json": {
              "type": "string"
            }
          },
          "metadata": {},
          "execution_count": 27
        }
      ]
    },
    {
      "cell_type": "code",
      "source": [
        "# isdigit --> verifica se existe E SE SÓ existe valor numerico dentro da string\n"
      ],
      "metadata": {
        "id": "rEb43TBbKlWC"
      },
      "execution_count": null,
      "outputs": []
    }
  ]
}