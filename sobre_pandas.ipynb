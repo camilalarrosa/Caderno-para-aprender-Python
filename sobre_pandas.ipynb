{
  "nbformat": 4,
  "nbformat_minor": 0,
  "metadata": {
    "colab": {
      "name": "sobre_pandas.ipynb",
      "provenance": [],
      "authorship_tag": "ABX9TyMisQRH+oUd9QI8j6RUPKLg",
      "include_colab_link": true
    },
    "kernelspec": {
      "name": "python3",
      "display_name": "Python 3"
    },
    "language_info": {
      "name": "python"
    }
  },
  "cells": [
    {
      "cell_type": "markdown",
      "metadata": {
        "id": "view-in-github",
        "colab_type": "text"
      },
      "source": [
        "<a href=\"https://colab.research.google.com/github/camilalarrosa/Caderno-para-aprender-Python/blob/main/sobre_pandas.ipynb\" target=\"_parent\"><img src=\"https://colab.research.google.com/assets/colab-badge.svg\" alt=\"Open In Colab\"/></a>"
      ]
    },
    {
      "cell_type": "code",
      "execution_count": null,
      "metadata": {
        "id": "tkpGswbAxFmt"
      },
      "outputs": [],
      "source": [
        "# Biblioteca para modelagem de dados\n",
        "import pandas as pd\n",
        "\n",
        "# Biblioteca para recursos matemáticos\n",
        "import numpy as np\n",
        "\n",
        "# Biblioteca para plotagem de dados\n",
        "import matplotlib.pyplot as plt"
      ]
    },
    {
      "cell_type": "code",
      "source": [
        "# df = pd.read_csv('patharquivo.csv')"
      ],
      "metadata": {
        "id": "5J5Xu7sxxLwd"
      },
      "execution_count": null,
      "outputs": []
    },
    {
      "cell_type": "code",
      "source": [
        "# type(df)"
      ],
      "metadata": {
        "id": "gvW0mcuC1GTS"
      },
      "execution_count": null,
      "outputs": []
    },
    {
      "cell_type": "code",
      "source": [
        "# mostrar 5 primeiras linhas\n",
        "\n",
        "# df.head()"
      ],
      "metadata": {
        "id": "AvJqmHXX1K8D"
      },
      "execution_count": null,
      "outputs": []
    },
    {
      "cell_type": "code",
      "source": [
        "# mostrar 5 ultimas linhas\n",
        "\n",
        "# df.tail()"
      ],
      "metadata": {
        "id": "GWaqRKi91LJ_"
      },
      "execution_count": null,
      "outputs": []
    },
    {
      "cell_type": "code",
      "source": [
        "# mostrar formato da tabela - DataFrame - (nro de linhas e de colunas)\n",
        "\n",
        "# df.shape"
      ],
      "metadata": {
        "id": "CwP7ITPl1TdQ"
      },
      "execution_count": null,
      "outputs": []
    },
    {
      "cell_type": "code",
      "source": [
        "# mostrar nome das colunas\n",
        "\n",
        "# df.columns"
      ],
      "metadata": {
        "id": "Tez6LIWd1TsX"
      },
      "execution_count": null,
      "outputs": []
    },
    {
      "cell_type": "code",
      "source": [
        "# verificar linhas duplicadas\n",
        "\n",
        "# df.duplicated().sum()"
      ],
      "metadata": {
        "id": "vXFJ9Cgx1hhR"
      },
      "execution_count": null,
      "outputs": []
    },
    {
      "cell_type": "code",
      "source": [
        "# informacoes genericas do DataFrame\n",
        "# df.info()"
      ],
      "metadata": {
        "id": "Lo5JAQdY1hvJ"
      },
      "execution_count": null,
      "outputs": []
    },
    {
      "cell_type": "code",
      "source": [
        "# verficar a existencia de NaN\n",
        "# df.isna().sum()"
      ],
      "metadata": {
        "id": "xO1MPedI1T2Q"
      },
      "execution_count": null,
      "outputs": []
    },
    {
      "cell_type": "code",
      "source": [
        "# sumario estatistico\n",
        "# df.describe()"
      ],
      "metadata": {
        "id": "kgUSuvQD1LLW"
      },
      "execution_count": null,
      "outputs": []
    },
    {
      "cell_type": "code",
      "source": [
        "# sumario estatistico inlcuindo variaveis categoricas\n",
        "# df.describe(incluse='all')"
      ],
      "metadata": {
        "id": "VD90_wyO235E"
      },
      "execution_count": null,
      "outputs": []
    },
    {
      "cell_type": "code",
      "source": [
        "# verificar quantidade de valores unicos em cada coluna\n",
        "# df.unique()"
      ],
      "metadata": {
        "id": "DH4f8X7o24Fw"
      },
      "execution_count": null,
      "outputs": []
    },
    {
      "cell_type": "code",
      "source": [
        "# para verificar QUAIS são os valores unicos de uma coluna\n",
        "# ex: df['parental level of education'].unique()"
      ],
      "metadata": {
        "id": "uVRmBJTO24IF"
      },
      "execution_count": null,
      "outputs": []
    },
    {
      "cell_type": "code",
      "source": [
        "# verificar a frequencia entre os valores\n",
        "# df.gender.value_counts()"
      ],
      "metadata": {
        "id": "6T7gVYvQ24Ni"
      },
      "execution_count": null,
      "outputs": []
    },
    {
      "cell_type": "code",
      "source": [
        "# ordenar o dataset por um grupo de colunas\n",
        "# provas = ['math score', 'reading score', 'writing score']\n",
        "# df = df.sort_values(by = provas, ascending = False).reset_index(drop=True)"
      ],
      "metadata": {
        "id": "1lcDnce_24QP"
      },
      "execution_count": null,
      "outputs": []
    },
    {
      "cell_type": "code",
      "source": [
        "# criar coluna com calculo da media das provas\n",
        "# df['mean'] = df[provas].mean(axis=1)"
      ],
      "metadata": {
        "id": "bQJ20QfJ3uya"
      },
      "execution_count": null,
      "outputs": []
    },
    {
      "cell_type": "code",
      "source": [
        "# fazer consulta\n",
        "# df.query('(gender == 'male') & ('test preparation course' == 'none') & ('math score' >= 70)')\n",
        "\n",
        "# mesma query, mas com outra sintaxe:\n",
        "#df.query[(df.gender == 'male') & (df['test preparation course'] == 'none') & (df['math score'] >= 70)]\n",
        "\n",
        "# mais outra\n",
        "#df.loc[(df.gender == 'male') & (df['test preparation course'] == 'none') & (df['math score'] >= 70)]"
      ],
      "metadata": {
        "id": "uaQ5UTKy3uz8"
      },
      "execution_count": null,
      "outputs": []
    },
    {
      "cell_type": "code",
      "source": [
        "# fazer agrupamento\n",
        "# df.group(by = 'gender')[provas].agg([np.mean, np.median]).T\n",
        "# OBS: .T é para transpor o resultado"
      ],
      "metadata": {
        "id": "XAUScoUp3u6P"
      },
      "execution_count": null,
      "outputs": []
    }
  ]
}